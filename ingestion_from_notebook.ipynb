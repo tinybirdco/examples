{
  "nbformat": 4,
  "nbformat_minor": 0,
  "metadata": {
    "colab": {
      "name": "ingestion_from_notebook.ipynb",
      "provenance": [],
      "collapsed_sections": []
    },
    "kernelspec": {
      "name": "python3",
      "display_name": "Python 3"
    },
    "language_info": {
      "name": "python"
    }
  },
  "cells": [
    {
      "cell_type": "markdown",
      "source": [
        "# Ingestion from a Jupyter Notebook\n",
        "\n",
        "When working in a Jupuyter Notebook you can send data to Tinybird Data Sources using the full range of ingestion options.\n",
        "\n",
        "This notebook walks through the options using the example of data from recent changes to Wikipedia.\n",
        "\n",
        "**Options for ingesting data:**\n",
        "\n",
        "1. Rest API\n",
        "2. UI\n",
        "3. CLI\n",
        "4. High-frequency ingestion\n",
        "\n",
        "**Example using pandas DataFrames for options 1-3.**\n",
        "\n",
        "- create a Data Source from 5 minutes of data in `df_wiki`\n",
        "\n",
        "- append 5 minutes of data to the Data Source from `df_wiki_new`\n",
        "\n",
        "Based on\n",
        "https://wikitech.wikimedia.org/wiki/Event_Platform/EventStreams\n",
        "\n"
      ],
      "metadata": {
        "id": "Oxn_CfV3o_Tx"
      }
    },
    {
      "cell_type": "markdown",
      "metadata": {
        "id": "2wdw1SwIGcUH"
      },
      "source": [
        "## Create pandas DataFrames"
      ]
    },
    {
      "cell_type": "code",
      "metadata": {
        "colab": {
          "base_uri": "https://localhost:8080/"
        },
        "id": "81iYYghptAbV",
        "outputId": "a6424960-816e-4ac6-aa51-c222f85c8b4b"
      },
      "source": [
        "!pip install sseclient"
      ],
      "execution_count": 2,
      "outputs": [
        {
          "output_type": "stream",
          "name": "stdout",
          "text": [
            "Collecting sseclient\n",
            "  Downloading sseclient-0.0.27.tar.gz (7.5 kB)\n",
            "Requirement already satisfied: requests>=2.9 in /usr/local/lib/python3.7/dist-packages (from sseclient) (2.23.0)\n",
            "Requirement already satisfied: six in /usr/local/lib/python3.7/dist-packages (from sseclient) (1.15.0)\n",
            "Requirement already satisfied: chardet<4,>=3.0.2 in /usr/local/lib/python3.7/dist-packages (from requests>=2.9->sseclient) (3.0.4)\n",
            "Requirement already satisfied: urllib3!=1.25.0,!=1.25.1,<1.26,>=1.21.1 in /usr/local/lib/python3.7/dist-packages (from requests>=2.9->sseclient) (1.24.3)\n",
            "Requirement already satisfied: certifi>=2017.4.17 in /usr/local/lib/python3.7/dist-packages (from requests>=2.9->sseclient) (2021.10.8)\n",
            "Requirement already satisfied: idna<3,>=2.5 in /usr/local/lib/python3.7/dist-packages (from requests>=2.9->sseclient) (2.10)\n",
            "Building wheels for collected packages: sseclient\n",
            "  Building wheel for sseclient (setup.py) ... \u001b[?25l\u001b[?25hdone\n",
            "  Created wheel for sseclient: filename=sseclient-0.0.27-py3-none-any.whl size=5584 sha256=736b1bdd9b59e0dc27e2200fc1670e837de894768db1296727c3371a3f62ccea\n",
            "  Stored in directory: /root/.cache/pip/wheels/07/67/7e/96edf627ac746de1a5c5cbb8d59ed960f033b8352dc12c545d\n",
            "Successfully built sseclient\n",
            "Installing collected packages: sseclient\n",
            "Successfully installed sseclient-0.0.27\n"
          ]
        }
      ]
    },
    {
      "cell_type": "code",
      "metadata": {
        "id": "K8JBne3NspAs"
      },
      "source": [
        "import json\n",
        "import time\n",
        "import pandas as pd\n",
        "\n",
        "from sseclient import SSEClient as EventSource\n",
        "from google.colab import files"
      ],
      "execution_count": 3,
      "outputs": []
    },
    {
      "cell_type": "code",
      "metadata": {
        "id": "uEAPrc0kuJYb"
      },
      "source": [
        "def create_df_wiki(url='https://stream.wikimedia.org/v2/stream/recentchange', n=5):\n",
        "  df_wiki = pd.DataFrame()\n",
        "  t_end = time.time() + 60 * n\n",
        "  change = {'timestamp': time.time()}\n",
        "  for event in EventSource(url):\n",
        "    if change['timestamp'] > t_end:\n",
        "          break\n",
        "    elif event.event == 'message':\n",
        "          try:\n",
        "              change = json.loads(event.data)\n",
        "          except ValueError:\n",
        "              pass\n",
        "          else:\n",
        "            if change['type']!='log':\n",
        "              df=pd.DataFrame.from_dict(change)\n",
        "              df_wiki=df_wiki.append(df[df.index=='domain'])\n",
        "  return df_wiki"
      ],
      "execution_count": 4,
      "outputs": []
    },
    {
      "cell_type": "markdown",
      "source": [
        "DataFrame of n minutes of data to create Data Source"
      ],
      "metadata": {
        "id": "3hW_BMBASTAr"
      }
    },
    {
      "cell_type": "code",
      "metadata": {
        "id": "Gj53VnIWBwEj"
      },
      "source": [
        "df_wiki = create_df_wiki(n=5)\n",
        "df_wiki.drop(columns=['$schema','length','revision'], inplace=True)"
      ],
      "execution_count": 5,
      "outputs": []
    },
    {
      "cell_type": "code",
      "source": [
        "df_wiki.info()"
      ],
      "metadata": {
        "colab": {
          "base_uri": "https://localhost:8080/"
        },
        "id": "IO3s49280Ooh",
        "outputId": "d6dab9d8-59b2-4e1a-e767-f56937023373"
      },
      "execution_count": 6,
      "outputs": [
        {
          "output_type": "stream",
          "name": "stdout",
          "text": [
            "<class 'pandas.core.frame.DataFrame'>\n",
            "Index: 7147 entries, domain to domain\n",
            "Data columns (total 16 columns):\n",
            " #   Column              Non-Null Count  Dtype \n",
            "---  ------              --------------  ----- \n",
            " 0   meta                7147 non-null   object\n",
            " 1   id                  7147 non-null   int64 \n",
            " 2   type                7147 non-null   object\n",
            " 3   namespace           7147 non-null   int64 \n",
            " 4   title               7147 non-null   object\n",
            " 5   comment             7147 non-null   object\n",
            " 6   timestamp           7147 non-null   int64 \n",
            " 7   user                7147 non-null   object\n",
            " 8   bot                 7147 non-null   bool  \n",
            " 9   server_url          7147 non-null   object\n",
            " 10  server_name         7147 non-null   object\n",
            " 11  server_script_path  7147 non-null   object\n",
            " 12  wiki                7147 non-null   object\n",
            " 13  parsedcomment       7147 non-null   object\n",
            " 14  minor               4501 non-null   object\n",
            " 15  patrolled           2861 non-null   object\n",
            "dtypes: bool(1), int64(3), object(12)\n",
            "memory usage: 900.4+ KB\n"
          ]
        }
      ]
    },
    {
      "cell_type": "markdown",
      "source": [
        "DataFrame of 5 minutes of data to append to Data Source"
      ],
      "metadata": {
        "id": "AXvIcnIMSWmQ"
      }
    },
    {
      "cell_type": "code",
      "source": [
        "df_wiki_new = create_df_wiki(n=5)\n",
        "df_wiki_new.drop(columns=['$schema','length','revision'], inplace=True)"
      ],
      "metadata": {
        "id": "JTCor3C7dJGV"
      },
      "execution_count": 7,
      "outputs": []
    },
    {
      "cell_type": "markdown",
      "source": [
        "## Option 1: Ingest to Tinybird using the Rest API"
      ],
      "metadata": {
        "id": "yzgtMC6oPTpQ"
      }
    },
    {
      "cell_type": "code",
      "source": [
        "if token == '':\n",
        "   print(\"Get your token from your Tinybird workspace.\")"
      ],
      "metadata": {
        "id": "8YWYW-mISvYA"
      },
      "execution_count": 8,
      "outputs": []
    },
    {
      "cell_type": "markdown",
      "source": [
        "### Create Data Source from a CSV File\n",
        "\n",
        "Column names read from first row, column data types inferred."
      ],
      "metadata": {
        "id": "C7o7_mTquSA2"
      }
    },
    {
      "cell_type": "code",
      "source": [
        "header = f'\"Authorization: Bearer {token}\"'\n",
        "\n",
        "name = 'wiki_api_csv'\n",
        "mode = 'create'\n",
        "url = 'https://api.tinybird.co/v0/datasources'\n",
        "endpoint = f'\"{url}?mode={mode}&name={name}\"'\n",
        "\n",
        "filename = name + 'csv'\n",
        "df_wiki.to_csv(filename, index=False)\n",
        "\n",
        "!curl -H $header -X POST $endpoint -F csv=@{filename}"
      ],
      "metadata": {
        "colab": {
          "base_uri": "https://localhost:8080/"
        },
        "id": "2k6OP9Ef-vmP",
        "outputId": "60f0ad9e-ecb4-4194-8ee3-00c970823d91"
      },
      "execution_count": 9,
      "outputs": [
        {
          "output_type": "stream",
          "name": "stdout",
          "text": [
            "{\n",
            "    \"import_id\": \"d9179b24-4e44-4212-a56e-66389a3033de\",\n",
            "    \"datasource\": {\n",
            "        \"id\": \"t_b2260a6bf31a47c68b525b72f6c53891\",\n",
            "        \"name\": \"wiki_api_csv\",\n",
            "        \"cluster\": null,\n",
            "        \"tags\": {},\n",
            "        \"created_at\": \"2022-02-10 17:36:52.762554\",\n",
            "        \"updated_at\": \"2022-02-10 17:36:53.155813\",\n",
            "        \"replicated\": false,\n",
            "        \"version\": 0,\n",
            "        \"project\": null,\n",
            "        \"headers\": {\n",
            "            \"dialect\": {\n",
            "                \"header\": \"['meta', 'id', 'type', 'namespace', 'title', 'comment', 'timestamp', 'user', 'bot', 'server_url', 'server_name', 'server_script_path', 'wiki', 'parsedcomment', 'minor', 'patrolled']\",\n",
            "                \"header_hash\": -6378930830185933471\n",
            "            }\n",
            "        },\n",
            "        \"shared_with\": [],\n",
            "        \"engine\": {\n",
            "            \"engine\": \"MergeTree\",\n",
            "            \"partition_key\": \"substring(meta, 1, 1)\",\n",
            "            \"sorting_key\": \"meta, cityHash64(title)\",\n",
            "            \"sampling_key\": \"cityHash64(title)\"\n",
            "        },\n",
            "        \"used_by\": [],\n",
            "        \"type\": \"csv\"\n",
            "    },\n",
            "    \"quarantine_rows\": 0,\n",
            "    \"invalid_lines\": 0,\n",
            "    \"error\": false\n",
            "}"
          ]
        }
      ]
    },
    {
      "cell_type": "markdown",
      "source": [
        "### Append to Data Source from a CSV File"
      ],
      "metadata": {
        "id": "ZdQnwSknuaOf"
      }
    },
    {
      "cell_type": "code",
      "source": [
        "filename = 'wiki_new_api_csv.csv'\n",
        "df_wiki_new.to_csv(filename, index=False)\n",
        "\n",
        "mode = 'append'\n",
        "endpoint = f'\"{url}?mode={mode}&name={name}\"' \n",
        "\n",
        "!curl -H $header -X POST $endpoint -F csv=@{filename}"
      ],
      "metadata": {
        "colab": {
          "base_uri": "https://localhost:8080/"
        },
        "id": "48QUDW4Suf4i",
        "outputId": "8b5f9e13-f747-4bb4-ce9f-9c528e61db41"
      },
      "execution_count": 10,
      "outputs": [
        {
          "output_type": "stream",
          "name": "stdout",
          "text": [
            "{\n",
            "    \"import_id\": \"3e249531-a4bd-485b-80c1-684782e8d3d8\",\n",
            "    \"datasource\": {\n",
            "        \"id\": \"t_b2260a6bf31a47c68b525b72f6c53891\",\n",
            "        \"name\": \"wiki_api_csv\",\n",
            "        \"cluster\": null,\n",
            "        \"tags\": {},\n",
            "        \"created_at\": \"2022-02-10 17:36:52.762554\",\n",
            "        \"updated_at\": \"2022-02-10 17:36:58.186064\",\n",
            "        \"replicated\": false,\n",
            "        \"version\": 0,\n",
            "        \"project\": null,\n",
            "        \"headers\": {\n",
            "            \"dialect\": {\n",
            "                \"header\": \"['meta', 'id', 'type', 'namespace', 'title', 'comment', 'timestamp', 'user', 'bot', 'server_url', 'server_name', 'server_script_path', 'wiki', 'parsedcomment', 'minor', 'patrolled']\",\n",
            "                \"header_hash\": -6378930830185933471\n",
            "            },\n",
            "            \"cached_delimiter\": \",\"\n",
            "        },\n",
            "        \"shared_with\": [],\n",
            "        \"engine\": {\n",
            "            \"engine\": \"MergeTree\",\n",
            "            \"partition_key\": \"substring(meta, 1, 1)\",\n",
            "            \"sorting_key\": \"meta, cityHash64(title)\",\n",
            "            \"sampling_key\": \"cityHash64(title)\"\n",
            "        },\n",
            "        \"used_by\": [],\n",
            "        \"type\": \"csv\"\n",
            "    },\n",
            "    \"quarantine_rows\": 0,\n",
            "    \"invalid_lines\": 0,\n",
            "    \"error\": false\n",
            "}"
          ]
        }
      ]
    },
    {
      "cell_type": "markdown",
      "source": [
        "### Create Data Source from Data in Memory\n",
        "based on https://gist.github.com/alrocar/9b1b860cf74ac6f2ad115c3cb2945e93"
      ],
      "metadata": {
        "id": "Btw-ZzHChqu7"
      }
    },
    {
      "cell_type": "code",
      "source": [
        "import csv\n",
        "import requests\n",
        "\n",
        "from io import StringIO\n",
        "from requests.adapters import HTTPAdapter\n",
        "\n",
        "from urllib3.util.retry import Retry\n",
        "from urllib.parse import urlencode"
      ],
      "metadata": {
        "id": "4yECHGogfalg"
      },
      "execution_count": 11,
      "outputs": []
    },
    {
      "cell_type": "code",
      "source": [
        "def ingest_from_array(rows,\n",
        "                      datasource, \n",
        "                      token, mode='append', \n",
        "                      endpoint='https://api.tinybird.co'):\n",
        "  \n",
        "  url = f'{endpoint}/v0/datasources?mode={mode}&name={datasource}'\n",
        "\n",
        "  retry = Retry(total=5, backoff_factor=0.2)\n",
        "  adapter = HTTPAdapter(max_retries=retry)\n",
        "  _session = requests.Session()\n",
        "  _session.mount('http://', adapter)\n",
        "  _session.mount('https://', adapter)\n",
        "\n",
        "  csv_chunk = StringIO()\n",
        "  writer = csv.writer(csv_chunk, delimiter=',', quotechar='\"', quoting=csv.QUOTE_NONNUMERIC)\n",
        "\n",
        "  records = 0\n",
        "  for row in rows:\n",
        "    writer.writerow(row)\n",
        "    records += 1\n",
        "\n",
        "    if len(rows) == records:\n",
        "        data = csv_chunk.getvalue()\n",
        "        headers = {\n",
        "            'Authorization': f'Bearer {token}',\n",
        "            'X-TB-Client': 'pltx-0.1',\n",
        "        }\n",
        "\n",
        "        ok = False\n",
        "        try:\n",
        "            response = _session.post(url, headers=headers, files=dict(csv=data))\n",
        "            result = response.json()\n",
        "\n",
        "            ok = response.status_code < 400\n",
        "            if ok:\n",
        "                csv_chunk = StringIO()\n",
        "                writer = csv.writer(csv_chunk, delimiter=',', quotechar='\"', quoting=csv.QUOTE_NONNUMERIC)\n",
        "                print(f\"Flushed {len(data)} bytes, datasource={datasource}, response={response.status_code}\")\n",
        "                print(f\"Result id={result.get('import_id', None)}, error={result.get('error', False)}\")\n",
        "        except Exception as e:\n",
        "            print(e)\n",
        "\n",
        "  print('Done')"
      ],
      "metadata": {
        "id": "oxm5tadCfdgU"
      },
      "execution_count": 12,
      "outputs": []
    },
    {
      "cell_type": "markdown",
      "source": [
        "Column names read from 'rows', column data types interpreted from 'rows'."
      ],
      "metadata": {
        "id": "oZGbLszlvlxD"
      }
    },
    {
      "cell_type": "code",
      "source": [
        "rows= df_wiki.values.tolist()\n",
        "# put column names in 1st row\n",
        "rows.insert(0, df_wiki.columns.tolist())\n",
        "\n",
        "datasource = 'wiki_api_mem'\n",
        "mode = 'create'\n",
        "endpoint = 'https://api.tinybird.co'\n",
        "\n",
        "ingest_from_array(rows, datasource, token, mode, endpoint)"
      ],
      "metadata": {
        "colab": {
          "base_uri": "https://localhost:8080/"
        },
        "id": "dBySTMNUfuCl",
        "outputId": "87c902a6-6ee2-49e0-d10e-0fac123c24a5"
      },
      "execution_count": 13,
      "outputs": [
        {
          "output_type": "stream",
          "name": "stdout",
          "text": [
            "Flushed 3228107 bytes, datasource=wiki_api_mem, response=200\n",
            "Result id=1f64e26b-da70-4cc2-94dc-3b40f1586377, error=False\n",
            "Done\n"
          ]
        }
      ]
    },
    {
      "cell_type": "markdown",
      "source": [
        "### Append to Data Source from Data in Memory"
      ],
      "metadata": {
        "id": "hshT0Wgph0dL"
      }
    },
    {
      "cell_type": "code",
      "source": [
        "mode = 'append'\n",
        "rows= df_wiki_new.values.tolist()\n",
        "\n",
        "ingest_from_array(rows, datasource, token, mode, endpoint)"
      ],
      "metadata": {
        "colab": {
          "base_uri": "https://localhost:8080/"
        },
        "id": "iC_zVWgBhY0A",
        "outputId": "e3d6266a-f1b3-446e-9af1-297fe1de832e"
      },
      "execution_count": 14,
      "outputs": [
        {
          "output_type": "stream",
          "name": "stdout",
          "text": [
            "Flushed 3542886 bytes, datasource=wiki_api_mem, response=200\n",
            "Result id=0fd3d8ce-db02-4036-94f1-2f9465276000, error=False\n",
            "Done\n"
          ]
        }
      ]
    },
    {
      "cell_type": "markdown",
      "source": [
        "## Option 2: Download Local File then ingest to Tinybird through the UI\n",
        "\n",
        "- CSV\n",
        "- NDJSON\n",
        "\n",
        "The column names and types can be changed in the preview in the UI, for example, the column `type` can be changed to `LowCardinality(String)`."
      ],
      "metadata": {
        "id": "LLdnpFE5VlDz"
      }
    },
    {
      "cell_type": "markdown",
      "source": [
        "### Format CSV"
      ],
      "metadata": {
        "id": "Oq3dO9HqisAH"
      }
    },
    {
      "cell_type": "code",
      "source": [
        "df_wiki.to_csv(\"wiki_ui_csv.csv\", index=False)\n",
        "files.download('wiki_ui_csv.csv')"
      ],
      "metadata": {
        "colab": {
          "base_uri": "https://localhost:8080/",
          "height": 17
        },
        "id": "MW8Rgq8jkJyM",
        "outputId": "8b1c90fb-7746-4713-cbe7-5757fcda1dfe"
      },
      "execution_count": 15,
      "outputs": [
        {
          "output_type": "display_data",
          "data": {
            "application/javascript": [
              "\n",
              "    async function download(id, filename, size) {\n",
              "      if (!google.colab.kernel.accessAllowed) {\n",
              "        return;\n",
              "      }\n",
              "      const div = document.createElement('div');\n",
              "      const label = document.createElement('label');\n",
              "      label.textContent = `Downloading \"${filename}\": `;\n",
              "      div.appendChild(label);\n",
              "      const progress = document.createElement('progress');\n",
              "      progress.max = size;\n",
              "      div.appendChild(progress);\n",
              "      document.body.appendChild(div);\n",
              "\n",
              "      const buffers = [];\n",
              "      let downloaded = 0;\n",
              "\n",
              "      const channel = await google.colab.kernel.comms.open(id);\n",
              "      // Send a message to notify the kernel that we're ready.\n",
              "      channel.send({})\n",
              "\n",
              "      for await (const message of channel.messages) {\n",
              "        // Send a message to notify the kernel that we're ready.\n",
              "        channel.send({})\n",
              "        if (message.buffers) {\n",
              "          for (const buffer of message.buffers) {\n",
              "            buffers.push(buffer);\n",
              "            downloaded += buffer.byteLength;\n",
              "            progress.value = downloaded;\n",
              "          }\n",
              "        }\n",
              "      }\n",
              "      const blob = new Blob(buffers, {type: 'application/binary'});\n",
              "      const a = document.createElement('a');\n",
              "      a.href = window.URL.createObjectURL(blob);\n",
              "      a.download = filename;\n",
              "      div.appendChild(a);\n",
              "      a.click();\n",
              "      div.remove();\n",
              "    }\n",
              "  "
            ],
            "text/plain": [
              "<IPython.core.display.Javascript object>"
            ]
          },
          "metadata": {}
        },
        {
          "output_type": "display_data",
          "data": {
            "application/javascript": [
              "download(\"download_2a1ab1b3-adae-4fab-be4d-5d8b24a97ce1\", \"wiki_ui_csv.csv\", 3177225)"
            ],
            "text/plain": [
              "<IPython.core.display.Javascript object>"
            ]
          },
          "metadata": {}
        }
      ]
    },
    {
      "cell_type": "markdown",
      "source": [
        "### Format NDJSON"
      ],
      "metadata": {
        "id": "zbyXqBZniwbM"
      }
    },
    {
      "cell_type": "code",
      "source": [
        "df_wiki.to_json(\"wiki_ui_ndjson.ndjson\", orient=\"records\", lines=True, force_ascii=0)\n",
        "files.download(\"wiki_ui_ndjson.ndjson\")"
      ],
      "metadata": {
        "colab": {
          "base_uri": "https://localhost:8080/",
          "height": 17
        },
        "id": "JcvfjXEbVyT2",
        "outputId": "b6a6de43-144c-44a3-f394-18f55c2c630b"
      },
      "execution_count": 16,
      "outputs": [
        {
          "output_type": "display_data",
          "data": {
            "application/javascript": [
              "\n",
              "    async function download(id, filename, size) {\n",
              "      if (!google.colab.kernel.accessAllowed) {\n",
              "        return;\n",
              "      }\n",
              "      const div = document.createElement('div');\n",
              "      const label = document.createElement('label');\n",
              "      label.textContent = `Downloading \"${filename}\": `;\n",
              "      div.appendChild(label);\n",
              "      const progress = document.createElement('progress');\n",
              "      progress.max = size;\n",
              "      div.appendChild(progress);\n",
              "      document.body.appendChild(div);\n",
              "\n",
              "      const buffers = [];\n",
              "      let downloaded = 0;\n",
              "\n",
              "      const channel = await google.colab.kernel.comms.open(id);\n",
              "      // Send a message to notify the kernel that we're ready.\n",
              "      channel.send({})\n",
              "\n",
              "      for await (const message of channel.messages) {\n",
              "        // Send a message to notify the kernel that we're ready.\n",
              "        channel.send({})\n",
              "        if (message.buffers) {\n",
              "          for (const buffer of message.buffers) {\n",
              "            buffers.push(buffer);\n",
              "            downloaded += buffer.byteLength;\n",
              "            progress.value = downloaded;\n",
              "          }\n",
              "        }\n",
              "      }\n",
              "      const blob = new Blob(buffers, {type: 'application/binary'});\n",
              "      const a = document.createElement('a');\n",
              "      a.href = window.URL.createObjectURL(blob);\n",
              "      a.download = filename;\n",
              "      div.appendChild(a);\n",
              "      a.click();\n",
              "      div.remove();\n",
              "    }\n",
              "  "
            ],
            "text/plain": [
              "<IPython.core.display.Javascript object>"
            ]
          },
          "metadata": {}
        },
        {
          "output_type": "display_data",
          "data": {
            "application/javascript": [
              "download(\"download_cb2785af-23ee-4f5d-86ab-7382a7e36152\", \"wiki_ui_ndjson.ndjson\", 4587617)"
            ],
            "text/plain": [
              "<IPython.core.display.Javascript object>"
            ]
          },
          "metadata": {}
        }
      ]
    },
    {
      "cell_type": "markdown",
      "source": [
        "## Option 3: Ingest to Tinybird from the CLI\n",
        "- CSV\n",
        "- NDJSON"
      ],
      "metadata": {
        "id": "Gyy2y966qMt4"
      }
    },
    {
      "cell_type": "code",
      "source": [
        "!pip install tinybird-cli"
      ],
      "metadata": {
        "id": "xwG0XbXasH82",
        "colab": {
          "base_uri": "https://localhost:8080/",
          "height": 1000
        },
        "outputId": "c502f9f6-7993-4513-a08d-41a18e4ee25b"
      },
      "execution_count": 17,
      "outputs": [
        {
          "output_type": "stream",
          "name": "stdout",
          "text": [
            "Collecting tinybird-cli\n",
            "  Downloading tinybird_cli-1.0.0b95-py3-none-any.whl (84 kB)\n",
            "\u001b[?25l\r\u001b[K     |███▉                            | 10 kB 14.9 MB/s eta 0:00:01\r\u001b[K     |███████▊                        | 20 kB 11.4 MB/s eta 0:00:01\r\u001b[K     |███████████▋                    | 30 kB 9.6 MB/s eta 0:00:01\r\u001b[K     |███████████████▌                | 40 kB 8.5 MB/s eta 0:00:01\r\u001b[K     |███████████████████▍            | 51 kB 5.2 MB/s eta 0:00:01\r\u001b[K     |███████████████████████▎        | 61 kB 5.5 MB/s eta 0:00:01\r\u001b[K     |███████████████████████████▏    | 71 kB 5.3 MB/s eta 0:00:01\r\u001b[K     |███████████████████████████████ | 81 kB 6.0 MB/s eta 0:00:01\r\u001b[K     |████████████████████████████████| 84 kB 2.0 MB/s \n",
            "\u001b[?25hRequirement already satisfied: wheel in /usr/local/lib/python3.7/dist-packages (from tinybird-cli) (0.37.1)\n",
            "Collecting requests==2.25.1\n",
            "  Downloading requests-2.25.1-py2.py3-none-any.whl (61 kB)\n",
            "\u001b[K     |████████████████████████████████| 61 kB 6.6 MB/s \n",
            "\u001b[?25hCollecting humanfriendly==8.2\n",
            "  Downloading humanfriendly-8.2-py2.py3-none-any.whl (86 kB)\n",
            "\u001b[K     |████████████████████████████████| 86 kB 4.3 MB/s \n",
            "\u001b[?25hCollecting requests-toolbelt==0.9.1\n",
            "  Downloading requests_toolbelt-0.9.1-py2.py3-none-any.whl (54 kB)\n",
            "\u001b[K     |████████████████████████████████| 54 kB 2.6 MB/s \n",
            "\u001b[?25hCollecting toposort==1.5\n",
            "  Downloading toposort-1.5-py2.py3-none-any.whl (7.6 kB)\n",
            "Collecting click==7.0\n",
            "  Downloading Click-7.0-py2.py3-none-any.whl (81 kB)\n",
            "\u001b[K     |████████████████████████████████| 81 kB 8.7 MB/s \n",
            "\u001b[?25hRequirement already satisfied: tornado==5.1.1 in /usr/local/lib/python3.7/dist-packages (from tinybird-cli) (5.1.1)\n",
            "Collecting clickhouse-toolset==0.15.dev1\n",
            "  Downloading clickhouse_toolset-0.15.dev1-cp37-cp37m-manylinux1_x86_64.whl (2.2 MB)\n",
            "\u001b[K     |████████████████████████████████| 2.2 MB 46.8 MB/s \n",
            "\u001b[?25hCollecting tabulate==0.8.3\n",
            "  Downloading tabulate-0.8.3.tar.gz (46 kB)\n",
            "\u001b[K     |████████████████████████████████| 46 kB 2.9 MB/s \n",
            "\u001b[?25hRequirement already satisfied: chardet<5,>=3.0.2 in /usr/local/lib/python3.7/dist-packages (from requests==2.25.1->tinybird-cli) (3.0.4)\n",
            "Requirement already satisfied: idna<3,>=2.5 in /usr/local/lib/python3.7/dist-packages (from requests==2.25.1->tinybird-cli) (2.10)\n",
            "Requirement already satisfied: urllib3<1.27,>=1.21.1 in /usr/local/lib/python3.7/dist-packages (from requests==2.25.1->tinybird-cli) (1.24.3)\n",
            "Requirement already satisfied: certifi>=2017.4.17 in /usr/local/lib/python3.7/dist-packages (from requests==2.25.1->tinybird-cli) (2021.10.8)\n",
            "Building wheels for collected packages: tabulate\n",
            "  Building wheel for tabulate (setup.py) ... \u001b[?25l\u001b[?25hdone\n",
            "  Created wheel for tabulate: filename=tabulate-0.8.3-py3-none-any.whl size=23391 sha256=59e4e33aafe32b1b298802e1aed2c6490c51f5c3c110d7d6d9c5a8488924e5b1\n",
            "  Stored in directory: /root/.cache/pip/wheels/b8/a2/a6/812a8a9735b090913e109133c7c20aaca4cf07e8e18837714f\n",
            "Successfully built tabulate\n",
            "Installing collected packages: requests, toposort, tabulate, requests-toolbelt, humanfriendly, clickhouse-toolset, click, tinybird-cli\n",
            "  Attempting uninstall: requests\n",
            "    Found existing installation: requests 2.23.0\n",
            "    Uninstalling requests-2.23.0:\n",
            "      Successfully uninstalled requests-2.23.0\n",
            "  Attempting uninstall: tabulate\n",
            "    Found existing installation: tabulate 0.8.9\n",
            "    Uninstalling tabulate-0.8.9:\n",
            "      Successfully uninstalled tabulate-0.8.9\n",
            "  Attempting uninstall: click\n",
            "    Found existing installation: click 7.1.2\n",
            "    Uninstalling click-7.1.2:\n",
            "      Successfully uninstalled click-7.1.2\n",
            "\u001b[31mERROR: pip's dependency resolver does not currently take into account all the packages that are installed. This behaviour is the source of the following dependency conflicts.\n",
            "google-colab 1.0.0 requires requests~=2.23.0, but you have requests 2.25.1 which is incompatible.\n",
            "datascience 0.10.6 requires folium==0.2.1, but you have folium 0.8.3 which is incompatible.\u001b[0m\n",
            "Successfully installed click-7.0 clickhouse-toolset-0.15.dev1 humanfriendly-8.2 requests-2.25.1 requests-toolbelt-0.9.1 tabulate-0.8.3 tinybird-cli-1.0.0b95 toposort-1.5\n"
          ]
        },
        {
          "output_type": "display_data",
          "data": {
            "application/vnd.colab-display-data+json": {
              "pip_warning": {
                "packages": [
                  "requests"
                ]
              }
            }
          },
          "metadata": {}
        }
      ]
    },
    {
      "cell_type": "code",
      "source": [
        "if token == '':\n",
        "   print(\"Get your token from your Tinybird workspace.\")"
      ],
      "metadata": {
        "id": "oVQu1s_OtlCD"
      },
      "execution_count": 18,
      "outputs": []
    },
    {
      "cell_type": "code",
      "source": [
        "def write_text_to_file(filename, text):\n",
        "  with open(filename, 'w') as f: f.write(text)"
      ],
      "metadata": {
        "id": "3tVbR1qLgL6P"
      },
      "execution_count": 19,
      "outputs": []
    },
    {
      "cell_type": "markdown",
      "source": [
        "### Format CSV"
      ],
      "metadata": {
        "id": "sJnwWLTxuOlU"
      }
    },
    {
      "cell_type": "code",
      "source": [
        "df_wiki.to_csv(\"wiki_cli_csv.csv\", index=False)"
      ],
      "metadata": {
        "id": "dh01Ob9k6MPq"
      },
      "execution_count": 20,
      "outputs": []
    },
    {
      "cell_type": "markdown",
      "source": [
        "The schema for the Data Source can be generated from the CSV file or written from code. "
      ],
      "metadata": {
        "id": "uxEERiN0fn35"
      }
    },
    {
      "cell_type": "code",
      "source": [
        "# generate the file wiki_cli_csv.datasource\n",
        "!tb --token=$token datasource generate wiki_cli_csv.csv"
      ],
      "metadata": {
        "colab": {
          "base_uri": "https://localhost:8080/"
        },
        "id": "RNXw_7l6feCX",
        "outputId": "2f31b363-bd58-40cf-ab85-c8137e9b8b79"
      },
      "execution_count": 21,
      "outputs": [
        {
          "output_type": "stream",
          "name": "stdout",
          "text": [
            "\u001b[92m** Generated wiki_cli_csv.datasource\n",
            "** => Create it on the server running: $ tb push wiki_cli_csv.datasource\n",
            "** => Append data using: $ tb datasource append wiki_cli_csv wiki_cli_csv.csv\n",
            "\u001b[0m\n"
          ]
        }
      ]
    },
    {
      "cell_type": "code",
      "source": [
        "# or write the file wiki_cli_csv.datasource with data types, sorting key etc.\n",
        "filename = 'wiki_cli_csv.datasource'\n",
        "text='''\n",
        "SCHEMA >\n",
        "    `meta` LowCardinality(String),\n",
        "    `id` Int64,\n",
        "    `type` String,\n",
        "    `namespace` Int16,\n",
        "    `title` String,\n",
        "    `comment` Nullable(String),\n",
        "    `timestamp` Int64,\n",
        "    `user` String,\n",
        "    `bot` String,\n",
        "    `minor` Nullable(String),\n",
        "    `patrolled` Nullable(String),\n",
        "    `server_url` LowCardinality(String),\n",
        "    `server_name` LowCardinality(String),\n",
        "    `server_script_path` String,\n",
        "    `wiki` LowCardinality(String),\n",
        "    `parsedcomment` Nullable(String)\n",
        "\n",
        "ENGINE \"MergeTree\"\n",
        "ENGINE_SORTING_KEY \"timestamp\"\n",
        "'''\n",
        "\n",
        "write_text_to_file(filename, text)"
      ],
      "metadata": {
        "id": "G_o8NDcNgYbt"
      },
      "execution_count": 22,
      "outputs": []
    },
    {
      "cell_type": "code",
      "source": [
        "!tb --token=$token push wiki_cli_csv.datasource\n",
        "!tb --token=$token datasource append wiki_cli_csv wiki_cli_csv.csv"
      ],
      "metadata": {
        "colab": {
          "base_uri": "https://localhost:8080/"
        },
        "id": "FciMn7FyrcSC",
        "outputId": "449247c8-aae2-4894-9632-9544b379a7e9"
      },
      "execution_count": 23,
      "outputs": [
        {
          "output_type": "stream",
          "name": "stdout",
          "text": [
            "\u001b[0m** Processing wiki_cli_csv.datasource\u001b[0m\n",
            "\u001b[0m** Building dependencies\u001b[0m\n",
            "\u001b[0m** Running wiki_cli_csv \u001b[0m\n",
            "\u001b[92m** 'wiki_cli_csv' created\u001b[0m\n",
            "\u001b[0m** Not pushing fixtures\u001b[0m\n",
            "\u001b[0m** 🥚 starting import process\u001b[0m\n",
            "\u001b[92m** 🐥 done\u001b[0m\n",
            "\u001b[92m** Appended 7017 new rows\u001b[0m\n",
            "\u001b[92m** Total rows in wiki_cli_csv: 7147\u001b[0m\n",
            "\u001b[92m** Data appended to Data Source 'wiki_cli_csv' successfully!\u001b[0m\n",
            "\u001b[0m** Data pushed to wiki_cli_csv\u001b[0m\n"
          ]
        }
      ]
    },
    {
      "cell_type": "markdown",
      "source": [
        "### Format NDJSON"
      ],
      "metadata": {
        "id": "8pYMGMzPuTqD"
      }
    },
    {
      "cell_type": "code",
      "source": [
        "df_wiki.to_json(\"wiki_cli_ndjson.ndjson\", orient=\"records\", lines=True, force_ascii=0)"
      ],
      "metadata": {
        "id": "foG1Jy-E6W1m"
      },
      "execution_count": 24,
      "outputs": []
    },
    {
      "cell_type": "markdown",
      "source": [
        "The schema for the Data Source can be generated from the NDJSON file or written from code. "
      ],
      "metadata": {
        "id": "C9tUMJHUikEH"
      }
    },
    {
      "cell_type": "code",
      "source": [
        "# generate the file wiki_cli_ndjson.datasource\n",
        "!tb --token=$token datasource generate wiki_cli_ndjson.ndjson"
      ],
      "metadata": {
        "colab": {
          "base_uri": "https://localhost:8080/"
        },
        "id": "-BazQJuPiiwT",
        "outputId": "b2ecffcd-a9d9-492c-9a00-6c985f189559"
      },
      "execution_count": 25,
      "outputs": [
        {
          "output_type": "stream",
          "name": "stdout",
          "text": [
            "\u001b[92m** Generated wiki_cli_ndjson.datasource\n",
            "** => Create it on the server running: $ tb push wiki_cli_ndjson.datasource\n",
            "** => Append data using: $ tb datasource append wiki_cli_ndjson wiki_cli_ndjson.ndjson\n",
            "\u001b[0m\n"
          ]
        }
      ]
    },
    {
      "cell_type": "code",
      "source": [
        "# or write the file wiki_cli_ndjson.datasource with data types, sorting key etc.\n",
        "filename = 'wiki_cli_ndjson.datasource'\n",
        "text='''\n",
        "SCHEMA >\n",
        "\n",
        "    bot UInt8 `json:$.bot`,\n",
        "    comment Nullable(String) `json:$.comment`,\n",
        "    id Int64 `json:$.id`,\n",
        "    meta LowCardinality(String) `json:$.meta`,\n",
        "    minor Nullable(UInt8) `json:$.minor`,\n",
        "    namespace Int16 `json:$.namespace`,\n",
        "    parsedcomment Nullable(String) `json:$.parsedcomment`,\n",
        "    patrolled Nullable(UInt8) `json:$.patrolled`,\n",
        "    server_name String `json:$.server_name`,\n",
        "    server_script_path String `json:$.server_script_path`,\n",
        "    server_url String `json:$.server_url`,\n",
        "    timestamp Int64 `json:$.timestamp`,\n",
        "    title String `json:$.title`,\n",
        "    type String `json:$.type`,\n",
        "    user String `json:$.user`,\n",
        "    wiki LowCardinality(String) `json:$.wiki`\n",
        "    \n",
        "ENGINE \"MergeTree\"\n",
        "ENGINE_SORTING_KEY \"timestamp\"\n",
        "'''\n",
        "\n",
        "write_text_to_file(filename, text)"
      ],
      "metadata": {
        "id": "PfPqBeCErFO9"
      },
      "execution_count": 26,
      "outputs": []
    },
    {
      "cell_type": "code",
      "source": [
        "!tb --token=$token push wiki_cli_ndjson.datasource\n",
        "!tb --token=$token datasource append wiki_cli_ndjson wiki_cli_ndjson.ndjson"
      ],
      "metadata": {
        "colab": {
          "base_uri": "https://localhost:8080/"
        },
        "id": "19s5E7kQqgkp",
        "outputId": "a03b1dd6-7c0b-412c-ba9f-4b7261076c2a"
      },
      "execution_count": 27,
      "outputs": [
        {
          "output_type": "stream",
          "name": "stdout",
          "text": [
            "\u001b[0m** Processing wiki_cli_ndjson.datasource\u001b[0m\n",
            "\u001b[0m** Building dependencies\u001b[0m\n",
            "\u001b[0m** Running wiki_cli_ndjson \u001b[0m\n",
            "\u001b[92m** 'wiki_cli_ndjson' created\u001b[0m\n",
            "\u001b[0m** Not pushing fixtures\u001b[0m\n",
            "\u001b[0m** 🥚 starting import process\u001b[0m\n",
            "\u001b[92m** 🐥 done\u001b[0m\n",
            "\u001b[92m** Appended 0 new rows\u001b[0m\n",
            "\u001b[92m** Total rows in wiki_cli_ndjson: 7147\u001b[0m\n",
            "\u001b[92m** Data appended to Data Source 'wiki_cli_ndjson' successfully!\u001b[0m\n",
            "\u001b[0m** Data pushed to wiki_cli_ndjson\u001b[0m\n"
          ]
        }
      ]
    },
    {
      "cell_type": "markdown",
      "source": [
        "## Option 4: Stream to Tinybird using High-Frequency Ingestion\n",
        "Here events are streamed directly to the Data Source from the Wikipedia stream using [high-frequency ingestion](https://guides.tinybird.co/guide/high-frequency-ingestion). The data is not first written to a pandas DataFrame.\n",
        "\n",
        "With `mode='create'` the data types are inferred. To avoid rows going into quarantine, a few more columns  need to be `Nullable` than inferred. Directly defining the schema after exploring the automatically created Data Source in the UI solves this issue. "
      ],
      "metadata": {
        "id": "HBbvTR32_G2P"
      }
    },
    {
      "cell_type": "code",
      "source": [
        "!pip install sseclient\n",
        "!pip install tinybird-cli -q -U"
      ],
      "metadata": {
        "colab": {
          "base_uri": "https://localhost:8080/"
        },
        "id": "oCrRAdCpAihL",
        "outputId": "94ea9078-43aa-4ecc-b274-cad31345f195"
      },
      "execution_count": 28,
      "outputs": [
        {
          "output_type": "stream",
          "name": "stdout",
          "text": [
            "Requirement already satisfied: sseclient in /usr/local/lib/python3.7/dist-packages (0.0.27)\n",
            "Requirement already satisfied: six in /usr/local/lib/python3.7/dist-packages (from sseclient) (1.15.0)\n",
            "Requirement already satisfied: requests>=2.9 in /usr/local/lib/python3.7/dist-packages (from sseclient) (2.25.1)\n",
            "Requirement already satisfied: idna<3,>=2.5 in /usr/local/lib/python3.7/dist-packages (from requests>=2.9->sseclient) (2.10)\n",
            "Requirement already satisfied: certifi>=2017.4.17 in /usr/local/lib/python3.7/dist-packages (from requests>=2.9->sseclient) (2021.10.8)\n",
            "Requirement already satisfied: chardet<5,>=3.0.2 in /usr/local/lib/python3.7/dist-packages (from requests>=2.9->sseclient) (3.0.4)\n",
            "Requirement already satisfied: urllib3<1.27,>=1.21.1 in /usr/local/lib/python3.7/dist-packages (from requests>=2.9->sseclient) (1.24.3)\n"
          ]
        }
      ]
    },
    {
      "cell_type": "code",
      "source": [
        "import json\n",
        "import requests\n",
        "import time\n",
        "\n",
        "import pandas as pd\n",
        "from sseclient import SSEClient as EventSource"
      ],
      "metadata": {
        "id": "6CVE8-uA_7lw"
      },
      "execution_count": 29,
      "outputs": []
    },
    {
      "cell_type": "code",
      "source": [
        "if token == '':\n",
        "   print(\"Get your token from your Tinybird workspace.\")"
      ],
      "metadata": {
        "id": "G7RgTwQe_Mlx"
      },
      "execution_count": 30,
      "outputs": []
    },
    {
      "cell_type": "code",
      "source": [
        "def write_text_to_file(filename, text):\n",
        "  with open(filename, 'w') as f: f.write(text)"
      ],
      "metadata": {
        "id": "Fee5Ptt7JS6Q"
      },
      "execution_count": 31,
      "outputs": []
    },
    {
      "cell_type": "code",
      "source": [
        "filename = 'wiki_hfi.datasource'\n",
        "text='''\n",
        "SCHEMA >\n",
        "    `DOLLAR_SIGN_schema` String `json:$.['$schema']`,\n",
        "    `bot` UInt8 `json:$.bot`,\n",
        "    `comment` String `json:$.comment`,\n",
        "    `id` Int64 `json:$.id`,\n",
        "    `length_new` Nullable(Int32) `json:$.length.new`,\n",
        "    `length_old` Nullable(Int32) `json:$.length.old`,\n",
        "    `meta_domain` String `json:$.meta.domain`,\n",
        "    `meta_dt` DateTime `json:$.meta.dt`,\n",
        "    `meta_id` String `json:$.meta.id`,\n",
        "    `meta_offset` Int64 `json:$.meta.offset`,\n",
        "    `meta_partition` Int16 `json:$.meta.partition`,\n",
        "    `meta_request_id` String `json:$.meta.request_id`,\n",
        "    `meta_stream` String `json:$.meta.stream`,\n",
        "    `meta_topic` String `json:$.meta.topic`,\n",
        "    `meta_uri` String `json:$.meta.uri`,\n",
        "    `minor` Nullable(UInt8) `json:$.minor`,\n",
        "    `namespace` Int16 `json:$.namespace`,\n",
        "    `parsedcomment` String `json:$.parsedcomment`,\n",
        "    `patrolled` Nullable(UInt8) `json:$.patrolled`,\n",
        "    `revision_new` Nullable(Int64) `json:$.revision.new`,\n",
        "    `revision_old` Nullable(Int64) `json:$.revision.old`,\n",
        "    `server_name` String `json:$.server_name`,\n",
        "    `server_script_path` String `json:$.server_script_path`,\n",
        "    `server_url` String `json:$.server_url`,\n",
        "    `timestamp` Int64 `json:$.timestamp`,\n",
        "    `title` String `json:$.title`,\n",
        "    `type` String `json:$.type`,\n",
        "    `user` String `json:$.user`,\n",
        "    `wiki` String `json:$.wiki`\n",
        "\n",
        "ENGINE \"MergeTree\"\n",
        "ENGINE_SORTING_KEY \"timestamp\"\n",
        "'''\n",
        "\n",
        "write_text_to_file(filename, text)\n",
        "!tb --token=$token push wiki_hfi.datasource"
      ],
      "metadata": {
        "colab": {
          "base_uri": "https://localhost:8080/"
        },
        "id": "fdkBT0Q7B2x_",
        "outputId": "39ce87da-17fe-43f2-ff64-42f6b66061e1"
      },
      "execution_count": 32,
      "outputs": [
        {
          "output_type": "stream",
          "name": "stdout",
          "text": [
            "\u001b[0m** Processing wiki_hfi.datasource\u001b[0m\n",
            "\u001b[0m** Building dependencies\u001b[0m\n",
            "\u001b[0m** Running wiki_hfi \u001b[0m\n",
            "\u001b[92m** 'wiki_hfi' created\u001b[0m\n",
            "\u001b[0m** Not pushing fixtures\u001b[0m\n"
          ]
        }
      ]
    },
    {
      "cell_type": "code",
      "source": [
        "url = 'https://api.tinybird.co/v0/events'\n",
        "mode = 'append'\n",
        "datasource = 'wiki_hfi'\n",
        "n = 1 # minutes of data from stream\n",
        "\n",
        "params = {\n",
        "        'mode': mode,\n",
        "        'name': datasource,\n",
        "        'token': token\n",
        "        }\n",
        "t_end = time.time() + n*60\n",
        "change = {'timestamp': time.time()}\n",
        "print('Start time:',pd.Timestamp(change['timestamp'], unit='s'))\n",
        "for event in EventSource('https://stream.wikimedia.org/v2/stream/recentchange'):\n",
        "      if change['timestamp'] > t_end:\n",
        "        break\n",
        "      elif event.event == 'message':\n",
        "        try:\n",
        "              change = json.loads(event.data)\n",
        "        except ValueError:\n",
        "              pass\n",
        "        else:\n",
        "            if change['type']!='log':\n",
        "              r = requests.post(url, \n",
        "                                params=params, \n",
        "                                data=json.dumps(change))\n",
        "print('Final timestamp:', pd.Timestamp(change['timestamp'], unit='s'))"
      ],
      "metadata": {
        "id": "KgUPnj98Aa_s",
        "colab": {
          "base_uri": "https://localhost:8080/"
        },
        "outputId": "34aa16cc-471a-43f3-a99b-4ee2b91aaeb7"
      },
      "execution_count": 34,
      "outputs": [
        {
          "output_type": "stream",
          "name": "stdout",
          "text": [
            "Start time: 2022-02-10 17:37:45.451096535\n",
            "Final timestamp: 2022-02-10 17:38:46\n"
          ]
        }
      ]
    }
  ]
}
