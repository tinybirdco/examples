{
  "cells": [
    {
      "cell_type": "markdown",
      "metadata": {
        "id": "Oxn_CfV3o_Tx"
      },
      "source": [
        "# Ingestion from a Jupyter Notebook\n",
        "\n",
        "When working in a Jupuyter Notebook you can send data to Tinybird Data Sources using the full range of ingestion options.\n",
        "\n",
        "This notebook walks through the options using the example of data from recent changes to Wikipedia.\n",
        "\n",
        "**Options for ingesting data:**\n",
        "\n",
        "1. Rest API\n",
        "2. UI\n",
        "3. CLI\n",
        "4. High-frequency ingestion\n",
        "\n",
        "**Example using pandas DataFrames for options 1-3.**\n",
        "\n",
        "- create a Data Source from 5 minutes of data in `df_wiki`\n",
        "\n",
        "- append 5 minutes of data to the Data Source from `df_wiki_new`\n",
        "\n",
        "Based on\n",
        "https://wikitech.wikimedia.org/wiki/Event_Platform/EventStreams\n",
        "\n"
      ]
    },
    {
      "cell_type": "markdown",
      "metadata": {
        "id": "2wdw1SwIGcUH"
      },
      "source": [
        "## Create pandas DataFrames"
      ]
    },
    {
      "cell_type": "code",
      "execution_count": 2,
      "metadata": {
        "colab": {
          "base_uri": "https://localhost:8080/"
        },
        "id": "81iYYghptAbV",
        "outputId": "208177c4-150d-47a9-84ee-6520afb33552"
      },
      "outputs": [
        {
          "output_type": "stream",
          "name": "stdout",
          "text": [
            "Requirement already satisfied: sseclient in /usr/local/lib/python3.7/dist-packages (0.0.27)\n",
            "Requirement already satisfied: requests>=2.9 in /usr/local/lib/python3.7/dist-packages (from sseclient) (2.23.0)\n",
            "Requirement already satisfied: six in /usr/local/lib/python3.7/dist-packages (from sseclient) (1.15.0)\n",
            "Requirement already satisfied: chardet<4,>=3.0.2 in /usr/local/lib/python3.7/dist-packages (from requests>=2.9->sseclient) (3.0.4)\n",
            "Requirement already satisfied: urllib3!=1.25.0,!=1.25.1,<1.26,>=1.21.1 in /usr/local/lib/python3.7/dist-packages (from requests>=2.9->sseclient) (1.24.3)\n",
            "Requirement already satisfied: idna<3,>=2.5 in /usr/local/lib/python3.7/dist-packages (from requests>=2.9->sseclient) (2.10)\n",
            "Requirement already satisfied: certifi>=2017.4.17 in /usr/local/lib/python3.7/dist-packages (from requests>=2.9->sseclient) (2021.10.8)\n"
          ]
        }
      ],
      "source": [
        "!pip install sseclient"
      ]
    },
    {
      "cell_type": "code",
      "execution_count": 3,
      "metadata": {
        "id": "K8JBne3NspAs"
      },
      "outputs": [],
      "source": [
        "import json\n",
        "import time\n",
        "import pandas as pd\n",
        "\n",
        "from sseclient import SSEClient as EventSource\n",
        "from google.colab import files"
      ]
    },
    {
      "cell_type": "code",
      "execution_count": 4,
      "metadata": {
        "id": "uEAPrc0kuJYb"
      },
      "outputs": [],
      "source": [
        "def create_df_wiki(url='https://stream.wikimedia.org/v2/stream/recentchange', n=5):\n",
        "  df_wiki = pd.DataFrame()\n",
        "  t_end = time.time() + 60 * n\n",
        "  change = {'timestamp': time.time()}\n",
        "  for event in EventSource(url):\n",
        "    if change['timestamp'] > t_end:\n",
        "          break\n",
        "    elif event.event == 'message':\n",
        "          try:\n",
        "              change = json.loads(event.data)\n",
        "          except ValueError:\n",
        "              pass\n",
        "          else:\n",
        "            if change['type']!='log':\n",
        "              df=pd.DataFrame.from_dict(change)\n",
        "              df_wiki=df_wiki.append(df[df.index=='domain'])\n",
        "  return df_wiki"
      ]
    },
    {
      "cell_type": "markdown",
      "metadata": {
        "id": "3hW_BMBASTAr"
      },
      "source": [
        "DataFrame of n minutes of data to create Data Source"
      ]
    },
    {
      "cell_type": "code",
      "execution_count": 5,
      "metadata": {
        "id": "Gj53VnIWBwEj"
      },
      "outputs": [],
      "source": [
        "df_wiki = create_df_wiki(n=5)\n",
        "df_wiki.drop(columns=['$schema','length','revision'], inplace=True)"
      ]
    },
    {
      "cell_type": "code",
      "execution_count": 6,
      "metadata": {
        "colab": {
          "base_uri": "https://localhost:8080/"
        },
        "id": "IO3s49280Ooh",
        "outputId": "06ebfca3-3971-4433-b13c-d9cd1a6484ba"
      },
      "outputs": [
        {
          "output_type": "stream",
          "name": "stdout",
          "text": [
            "<class 'pandas.core.frame.DataFrame'>\n",
            "Index: 7937 entries, domain to domain\n",
            "Data columns (total 16 columns):\n",
            " #   Column              Non-Null Count  Dtype \n",
            "---  ------              --------------  ----- \n",
            " 0   meta                7937 non-null   object\n",
            " 1   id                  7937 non-null   int64 \n",
            " 2   type                7937 non-null   object\n",
            " 3   namespace           7937 non-null   int64 \n",
            " 4   title               7937 non-null   object\n",
            " 5   comment             7937 non-null   object\n",
            " 6   timestamp           7937 non-null   int64 \n",
            " 7   user                7937 non-null   object\n",
            " 8   bot                 7937 non-null   bool  \n",
            " 9   server_url          7937 non-null   object\n",
            " 10  server_name         7937 non-null   object\n",
            " 11  server_script_path  7937 non-null   object\n",
            " 12  wiki                7937 non-null   object\n",
            " 13  parsedcomment       7937 non-null   object\n",
            " 14  minor               4315 non-null   object\n",
            " 15  patrolled           2678 non-null   object\n",
            "dtypes: bool(1), int64(3), object(12)\n",
            "memory usage: 999.9+ KB\n"
          ]
        }
      ],
      "source": [
        "df_wiki.info()"
      ]
    },
    {
      "cell_type": "markdown",
      "metadata": {
        "id": "AXvIcnIMSWmQ"
      },
      "source": [
        "DataFrame of 5 minutes of data to append to Data Source"
      ]
    },
    {
      "cell_type": "code",
      "execution_count": 7,
      "metadata": {
        "id": "JTCor3C7dJGV"
      },
      "outputs": [],
      "source": [
        "df_wiki_new = create_df_wiki(n=5)\n",
        "df_wiki_new.drop(columns=['$schema','length','revision'], inplace=True)"
      ]
    },
    {
      "cell_type": "markdown",
      "metadata": {
        "id": "yzgtMC6oPTpQ"
      },
      "source": [
        "## Option 1: Ingest to Tinybird using the Rest API"
      ]
    },
    {
      "cell_type": "code",
      "execution_count": 8,
      "metadata": {
        "id": "8YWYW-mISvYA"
      },
      "outputs": [],
      "source": [
        "if token == '':\n",
        "   print(\"Get your token from your Tinybird workspace.\")"
      ]
    },
    {
      "cell_type": "markdown",
      "metadata": {
        "id": "C7o7_mTquSA2"
      },
      "source": [
        "### Create Data Source from a CSV File\n",
        "\n",
        "Column names are read from the first row, column data types inferred."
      ]
    },
    {
      "cell_type": "code",
      "execution_count": 11,
      "metadata": {
        "colab": {
          "base_uri": "https://localhost:8080/"
        },
        "id": "2k6OP9Ef-vmP",
        "outputId": "a434a35d-b03e-4f79-83f5-cbd8fbcffa0b"
      },
      "outputs": [
        {
          "output_type": "stream",
          "name": "stdout",
          "text": [
            "{\n",
            "    \"import_id\": \"588ce36f-765e-4f29-b1dc-b88b4558eb40\",\n",
            "    \"datasource\": {\n",
            "        \"id\": \"t_66ca1998b5e247fa8a0409c5cc2ba4b9\",\n",
            "        \"name\": \"wiki_api_csv\",\n",
            "        \"cluster\": null,\n",
            "        \"tags\": {},\n",
            "        \"created_at\": \"2022-02-17 11:30:57.517727\",\n",
            "        \"updated_at\": \"2022-02-17 11:30:57.823016\",\n",
            "        \"replicated\": false,\n",
            "        \"version\": 0,\n",
            "        \"project\": null,\n",
            "        \"headers\": {\n",
            "            \"dialect\": {\n",
            "                \"header\": \"['meta', 'id', 'type', 'namespace', 'title', 'comment', 'timestamp', 'user', 'bot', 'server_url', 'server_name', 'server_script_path', 'wiki', 'parsedcomment', 'minor', 'patrolled']\",\n",
            "                \"header_hash\": -2164950873547256806\n",
            "            }\n",
            "        },\n",
            "        \"shared_with\": [],\n",
            "        \"engine\": {\n",
            "            \"engine\": \"MergeTree\",\n",
            "            \"partition_key\": \"substring(meta, 1, 1)\",\n",
            "            \"sorting_key\": \"meta, intHash32(id)\",\n",
            "            \"sampling_key\": \"intHash32(id)\"\n",
            "        },\n",
            "        \"used_by\": [],\n",
            "        \"type\": \"csv\"\n",
            "    },\n",
            "    \"quarantine_rows\": 0,\n",
            "    \"invalid_lines\": 0,\n",
            "    \"error\": false\n",
            "}"
          ]
        }
      ],
      "source": [
        "header = f'\"Authorization: Bearer {token}\"'\n",
        "\n",
        "name = 'wiki_api_csv'\n",
        "mode = 'create'\n",
        "url = 'https://api.tinybird.co/v0/datasources'\n",
        "endpoint = f'\"{url}?mode={mode}&name={name}\"'\n",
        "\n",
        "filename = name + 'csv'\n",
        "df_wiki.to_csv(filename, index=False)\n",
        "\n",
        "!curl -H $header -X POST $endpoint -F csv=@{filename}"
      ]
    },
    {
      "cell_type": "markdown",
      "metadata": {
        "id": "ZdQnwSknuaOf"
      },
      "source": [
        "### Append to Data Source from a CSV File"
      ]
    },
    {
      "cell_type": "code",
      "execution_count": 12,
      "metadata": {
        "colab": {
          "base_uri": "https://localhost:8080/"
        },
        "id": "48QUDW4Suf4i",
        "outputId": "be898454-f7e9-4801-b345-557f2bc2cd08"
      },
      "outputs": [
        {
          "output_type": "stream",
          "name": "stdout",
          "text": [
            "{\n",
            "    \"import_id\": \"c99bee4b-7850-4fc1-ae42-52db2e265355\",\n",
            "    \"datasource\": {\n",
            "        \"id\": \"t_66ca1998b5e247fa8a0409c5cc2ba4b9\",\n",
            "        \"name\": \"wiki_api_csv\",\n",
            "        \"cluster\": null,\n",
            "        \"tags\": {},\n",
            "        \"created_at\": \"2022-02-17 11:30:57.517727\",\n",
            "        \"updated_at\": \"2022-02-17 11:30:58.815457\",\n",
            "        \"replicated\": false,\n",
            "        \"version\": 0,\n",
            "        \"project\": null,\n",
            "        \"headers\": {\n",
            "            \"dialect\": {\n",
            "                \"header\": \"['meta', 'id', 'type', 'namespace', 'title', 'comment', 'timestamp', 'user', 'bot', 'server_url', 'server_name', 'server_script_path', 'wiki', 'parsedcomment', 'minor', 'patrolled']\",\n",
            "                \"header_hash\": -2164950873547256806\n",
            "            },\n",
            "            \"cached_delimiter\": \",\"\n",
            "        },\n",
            "        \"shared_with\": [],\n",
            "        \"engine\": {\n",
            "            \"engine\": \"MergeTree\",\n",
            "            \"partition_key\": \"substring(meta, 1, 1)\",\n",
            "            \"sorting_key\": \"meta, intHash32(id)\",\n",
            "            \"sampling_key\": \"intHash32(id)\"\n",
            "        },\n",
            "        \"used_by\": [],\n",
            "        \"type\": \"csv\"\n",
            "    },\n",
            "    \"quarantine_rows\": 0,\n",
            "    \"invalid_lines\": 0,\n",
            "    \"error\": false\n",
            "}"
          ]
        }
      ],
      "source": [
        "filename = 'wiki_new_api_csv.csv'\n",
        "df_wiki_new.to_csv(filename, index=False)\n",
        "\n",
        "mode = 'append'\n",
        "endpoint = f'\"{url}?mode={mode}&name={name}\"' \n",
        "\n",
        "!curl -H $header -X POST $endpoint -F csv=@{filename}"
      ]
    },
    {
      "cell_type": "markdown",
      "metadata": {
        "id": "Btw-ZzHChqu7"
      },
      "source": [
        "### Create Data Source from Data in Memory\n",
        "based on https://gist.github.com/alrocar/9b1b860cf74ac6f2ad115c3cb2945e93"
      ]
    },
    {
      "cell_type": "code",
      "execution_count": 13,
      "metadata": {
        "id": "4yECHGogfalg"
      },
      "outputs": [],
      "source": [
        "import csv\n",
        "import requests\n",
        "\n",
        "from io import StringIO\n",
        "from requests.adapters import HTTPAdapter\n",
        "\n",
        "from urllib3.util.retry import Retry\n",
        "from urllib.parse import urlencode"
      ]
    },
    {
      "cell_type": "code",
      "execution_count": 14,
      "metadata": {
        "id": "oxm5tadCfdgU"
      },
      "outputs": [],
      "source": [
        "def ingest_from_array(rows,\n",
        "                      datasource, \n",
        "                      token, mode='append', \n",
        "                      endpoint='https://api.tinybird.co'):\n",
        "  \n",
        "  url = f'{endpoint}/v0/datasources?mode={mode}&name={datasource}'\n",
        "\n",
        "  retry = Retry(total=5, backoff_factor=0.2)\n",
        "  adapter = HTTPAdapter(max_retries=retry)\n",
        "  _session = requests.Session()\n",
        "  _session.mount('http://', adapter)\n",
        "  _session.mount('https://', adapter)\n",
        "\n",
        "  csv_chunk = StringIO()\n",
        "  writer = csv.writer(csv_chunk, delimiter=',', quotechar='\"', quoting=csv.QUOTE_NONNUMERIC)\n",
        "\n",
        "  records = 0\n",
        "  for row in rows:\n",
        "    writer.writerow(row)\n",
        "    records += 1\n",
        "\n",
        "    if len(rows) == records:\n",
        "        data = csv_chunk.getvalue()\n",
        "        headers = {\n",
        "            'Authorization': f'Bearer {token}',\n",
        "            'X-TB-Client': 'pltx-0.1',\n",
        "        }\n",
        "\n",
        "        ok = False\n",
        "        try:\n",
        "            response = _session.post(url, headers=headers, files=dict(csv=data))\n",
        "            result = response.json()\n",
        "\n",
        "            ok = response.status_code < 400\n",
        "            if ok:\n",
        "                csv_chunk = StringIO()\n",
        "                writer = csv.writer(csv_chunk, delimiter=',', quotechar='\"', quoting=csv.QUOTE_NONNUMERIC)\n",
        "                print(f\"Flushed {len(data)} bytes, datasource={datasource}, response={response.status_code}\")\n",
        "                print(f\"Result id={result.get('import_id', None)}, error={result.get('error', False)}\")\n",
        "        except Exception as e:\n",
        "            print(e)\n",
        "\n",
        "  print('Done')"
      ]
    },
    {
      "cell_type": "markdown",
      "metadata": {
        "id": "oZGbLszlvlxD"
      },
      "source": [
        "Column names are read from from 'rows', column data types are inferred from 'rows'."
      ]
    },
    {
      "cell_type": "code",
      "execution_count": 16,
      "metadata": {
        "colab": {
          "base_uri": "https://localhost:8080/"
        },
        "id": "dBySTMNUfuCl",
        "outputId": "c0969cfb-39fa-4545-85f5-ca567e2caa33"
      },
      "outputs": [
        {
          "output_type": "stream",
          "name": "stdout",
          "text": [
            "Flushed 3524852 bytes, datasource=wiki_api_mem, response=200\n",
            "Result id=bfab81ca-959a-4c0a-bc84-4fb1f0552bdf, error=False\n",
            "Done\n"
          ]
        }
      ],
      "source": [
        "rows= df_wiki.values.tolist()\n",
        "# put column names in 1st row\n",
        "rows.insert(0, df_wiki.columns.tolist())\n",
        "\n",
        "datasource = 'wiki_api_mem'\n",
        "mode = 'create'\n",
        "endpoint = 'https://api.tinybird.co'\n",
        "\n",
        "ingest_from_array(rows, datasource, token, mode, endpoint)"
      ]
    },
    {
      "cell_type": "markdown",
      "metadata": {
        "id": "hshT0Wgph0dL"
      },
      "source": [
        "### Append to Data Source from Data in Memory"
      ]
    },
    {
      "cell_type": "code",
      "execution_count": 17,
      "metadata": {
        "colab": {
          "base_uri": "https://localhost:8080/"
        },
        "id": "iC_zVWgBhY0A",
        "outputId": "82aefae6-8c78-4097-cf9e-f140b33350da"
      },
      "outputs": [
        {
          "output_type": "stream",
          "name": "stdout",
          "text": [
            "Flushed 3557152 bytes, datasource=wiki_api_mem, response=200\n",
            "Result id=2bfac483-21f3-41b9-aeaa-095400d0dace, error=False\n",
            "Done\n"
          ]
        }
      ],
      "source": [
        "mode = 'append'\n",
        "rows= df_wiki_new.values.tolist()\n",
        "\n",
        "ingest_from_array(rows, datasource, token, mode, endpoint)"
      ]
    },
    {
      "cell_type": "markdown",
      "metadata": {
        "id": "LLdnpFE5VlDz"
      },
      "source": [
        "## Option 2: Download Local File then ingest to Tinybird through the UI\n",
        "\n",
        "- CSV\n",
        "- NDJSON\n",
        "\n",
        "The inferred column names and types can be changed in the preview in the UI, for example, the column `type` can be changed to `LowCardinality(String)`."
      ]
    },
    {
      "cell_type": "markdown",
      "metadata": {
        "id": "Oq3dO9HqisAH"
      },
      "source": [
        "### Format CSV"
      ]
    },
    {
      "cell_type": "code",
      "execution_count": 18,
      "metadata": {
        "colab": {
          "base_uri": "https://localhost:8080/",
          "height": 17
        },
        "id": "MW8Rgq8jkJyM",
        "outputId": "eea7814c-deec-41db-ebf8-c408981828fd"
      },
      "outputs": [
        {
          "output_type": "display_data",
          "data": {
            "application/javascript": [
              "\n",
              "    async function download(id, filename, size) {\n",
              "      if (!google.colab.kernel.accessAllowed) {\n",
              "        return;\n",
              "      }\n",
              "      const div = document.createElement('div');\n",
              "      const label = document.createElement('label');\n",
              "      label.textContent = `Downloading \"${filename}\": `;\n",
              "      div.appendChild(label);\n",
              "      const progress = document.createElement('progress');\n",
              "      progress.max = size;\n",
              "      div.appendChild(progress);\n",
              "      document.body.appendChild(div);\n",
              "\n",
              "      const buffers = [];\n",
              "      let downloaded = 0;\n",
              "\n",
              "      const channel = await google.colab.kernel.comms.open(id);\n",
              "      // Send a message to notify the kernel that we're ready.\n",
              "      channel.send({})\n",
              "\n",
              "      for await (const message of channel.messages) {\n",
              "        // Send a message to notify the kernel that we're ready.\n",
              "        channel.send({})\n",
              "        if (message.buffers) {\n",
              "          for (const buffer of message.buffers) {\n",
              "            buffers.push(buffer);\n",
              "            downloaded += buffer.byteLength;\n",
              "            progress.value = downloaded;\n",
              "          }\n",
              "        }\n",
              "      }\n",
              "      const blob = new Blob(buffers, {type: 'application/binary'});\n",
              "      const a = document.createElement('a');\n",
              "      a.href = window.URL.createObjectURL(blob);\n",
              "      a.download = filename;\n",
              "      div.appendChild(a);\n",
              "      a.click();\n",
              "      div.remove();\n",
              "    }\n",
              "  "
            ],
            "text/plain": [
              "<IPython.core.display.Javascript object>"
            ]
          },
          "metadata": {}
        },
        {
          "output_type": "display_data",
          "data": {
            "application/javascript": [
              "download(\"download_33838cfc-0c84-498b-b175-3c1276101eb4\", \"wiki_ui_csv.csv\", 3647524)"
            ],
            "text/plain": [
              "<IPython.core.display.Javascript object>"
            ]
          },
          "metadata": {}
        }
      ],
      "source": [
        "df_wiki.to_csv(\"wiki_ui_csv.csv\", index=False)\n",
        "files.download('wiki_ui_csv.csv')"
      ]
    },
    {
      "cell_type": "markdown",
      "metadata": {
        "id": "zbyXqBZniwbM"
      },
      "source": [
        "### Format NDJSON"
      ]
    },
    {
      "cell_type": "code",
      "execution_count": 19,
      "metadata": {
        "colab": {
          "base_uri": "https://localhost:8080/",
          "height": 17
        },
        "id": "JcvfjXEbVyT2",
        "outputId": "796108ed-d740-4266-a418-37f6fdb89e70"
      },
      "outputs": [
        {
          "output_type": "display_data",
          "data": {
            "application/javascript": [
              "\n",
              "    async function download(id, filename, size) {\n",
              "      if (!google.colab.kernel.accessAllowed) {\n",
              "        return;\n",
              "      }\n",
              "      const div = document.createElement('div');\n",
              "      const label = document.createElement('label');\n",
              "      label.textContent = `Downloading \"${filename}\": `;\n",
              "      div.appendChild(label);\n",
              "      const progress = document.createElement('progress');\n",
              "      progress.max = size;\n",
              "      div.appendChild(progress);\n",
              "      document.body.appendChild(div);\n",
              "\n",
              "      const buffers = [];\n",
              "      let downloaded = 0;\n",
              "\n",
              "      const channel = await google.colab.kernel.comms.open(id);\n",
              "      // Send a message to notify the kernel that we're ready.\n",
              "      channel.send({})\n",
              "\n",
              "      for await (const message of channel.messages) {\n",
              "        // Send a message to notify the kernel that we're ready.\n",
              "        channel.send({})\n",
              "        if (message.buffers) {\n",
              "          for (const buffer of message.buffers) {\n",
              "            buffers.push(buffer);\n",
              "            downloaded += buffer.byteLength;\n",
              "            progress.value = downloaded;\n",
              "          }\n",
              "        }\n",
              "      }\n",
              "      const blob = new Blob(buffers, {type: 'application/binary'});\n",
              "      const a = document.createElement('a');\n",
              "      a.href = window.URL.createObjectURL(blob);\n",
              "      a.download = filename;\n",
              "      div.appendChild(a);\n",
              "      a.click();\n",
              "      div.remove();\n",
              "    }\n",
              "  "
            ],
            "text/plain": [
              "<IPython.core.display.Javascript object>"
            ]
          },
          "metadata": {}
        },
        {
          "output_type": "display_data",
          "data": {
            "application/javascript": [
              "download(\"download_d6a3beb7-e093-4e04-aed6-da649ddef46e\", \"wiki_ui_ndjson.ndjson\", 5219439)"
            ],
            "text/plain": [
              "<IPython.core.display.Javascript object>"
            ]
          },
          "metadata": {}
        }
      ],
      "source": [
        "df_wiki.to_json(\"wiki_ui_ndjson.ndjson\", orient=\"records\", lines=True, force_ascii=0)\n",
        "files.download(\"wiki_ui_ndjson.ndjson\")"
      ]
    },
    {
      "cell_type": "markdown",
      "metadata": {
        "id": "Gyy2y966qMt4"
      },
      "source": [
        "## Option 3: Ingest to Tinybird from the CLI\n",
        "- CSV\n",
        "- NDJSON"
      ]
    },
    {
      "cell_type": "code",
      "execution_count": 20,
      "metadata": {
        "colab": {
          "base_uri": "https://localhost:8080/",
          "height": 1000
        },
        "id": "xwG0XbXasH82",
        "outputId": "535248d7-0d49-4dc1-b22b-90b613366246"
      },
      "outputs": [
        {
          "output_type": "stream",
          "name": "stdout",
          "text": [
            "Collecting tinybird-cli\n",
            "  Downloading tinybird_cli-1.0.0b96-py3-none-any.whl (84 kB)\n",
            "\u001b[?25l\r\u001b[K     |███▉                            | 10 kB 24.2 MB/s eta 0:00:01\r\u001b[K     |███████▊                        | 20 kB 12.7 MB/s eta 0:00:01\r\u001b[K     |███████████▋                    | 30 kB 6.8 MB/s eta 0:00:01\r\u001b[K     |███████████████▌                | 40 kB 6.4 MB/s eta 0:00:01\r\u001b[K     |███████████████████▍            | 51 kB 2.8 MB/s eta 0:00:01\r\u001b[K     |███████████████████████▎        | 61 kB 3.3 MB/s eta 0:00:01\r\u001b[K     |███████████████████████████▏    | 71 kB 3.5 MB/s eta 0:00:01\r\u001b[K     |███████████████████████████████ | 81 kB 3.8 MB/s eta 0:00:01\r\u001b[K     |████████████████████████████████| 84 kB 1.8 MB/s \n",
            "\u001b[?25hRequirement already satisfied: tornado==5.1.1 in /usr/local/lib/python3.7/dist-packages (from tinybird-cli) (5.1.1)\n",
            "Collecting toposort==1.5\n",
            "  Downloading toposort-1.5-py2.py3-none-any.whl (7.6 kB)\n",
            "Collecting click==7.0\n",
            "  Downloading Click-7.0-py2.py3-none-any.whl (81 kB)\n",
            "\u001b[K     |████████████████████████████████| 81 kB 8.1 MB/s \n",
            "\u001b[?25hCollecting requests-toolbelt==0.9.1\n",
            "  Downloading requests_toolbelt-0.9.1-py2.py3-none-any.whl (54 kB)\n",
            "\u001b[K     |████████████████████████████████| 54 kB 2.6 MB/s \n",
            "\u001b[?25hRequirement already satisfied: wheel in /usr/local/lib/python3.7/dist-packages (from tinybird-cli) (0.37.1)\n",
            "Collecting clickhouse-toolset==0.16.dev0\n",
            "  Downloading clickhouse_toolset-0.16.dev0-cp37-cp37m-manylinux1_x86_64.whl (2.2 MB)\n",
            "\u001b[K     |████████████████████████████████| 2.2 MB 13.4 MB/s \n",
            "\u001b[?25hCollecting humanfriendly==8.2\n",
            "  Downloading humanfriendly-8.2-py2.py3-none-any.whl (86 kB)\n",
            "\u001b[K     |████████████████████████████████| 86 kB 4.5 MB/s \n",
            "\u001b[?25hCollecting tabulate==0.8.3\n",
            "  Downloading tabulate-0.8.3.tar.gz (46 kB)\n",
            "\u001b[K     |████████████████████████████████| 46 kB 3.7 MB/s \n",
            "\u001b[?25hCollecting requests==2.25.1\n",
            "  Downloading requests-2.25.1-py2.py3-none-any.whl (61 kB)\n",
            "\u001b[K     |████████████████████████████████| 61 kB 7.1 MB/s \n",
            "\u001b[?25hRequirement already satisfied: chardet<5,>=3.0.2 in /usr/local/lib/python3.7/dist-packages (from requests==2.25.1->tinybird-cli) (3.0.4)\n",
            "Requirement already satisfied: certifi>=2017.4.17 in /usr/local/lib/python3.7/dist-packages (from requests==2.25.1->tinybird-cli) (2021.10.8)\n",
            "Requirement already satisfied: urllib3<1.27,>=1.21.1 in /usr/local/lib/python3.7/dist-packages (from requests==2.25.1->tinybird-cli) (1.24.3)\n",
            "Requirement already satisfied: idna<3,>=2.5 in /usr/local/lib/python3.7/dist-packages (from requests==2.25.1->tinybird-cli) (2.10)\n",
            "Building wheels for collected packages: tabulate\n",
            "  Building wheel for tabulate (setup.py) ... \u001b[?25l\u001b[?25hdone\n",
            "  Created wheel for tabulate: filename=tabulate-0.8.3-py3-none-any.whl size=23391 sha256=f618c28a84735ea97cd8f7a8a902d943c448f92b0efe8c698680dd535d1d90a8\n",
            "  Stored in directory: /root/.cache/pip/wheels/b8/a2/a6/812a8a9735b090913e109133c7c20aaca4cf07e8e18837714f\n",
            "Successfully built tabulate\n",
            "Installing collected packages: requests, toposort, tabulate, requests-toolbelt, humanfriendly, clickhouse-toolset, click, tinybird-cli\n",
            "  Attempting uninstall: requests\n",
            "    Found existing installation: requests 2.23.0\n",
            "    Uninstalling requests-2.23.0:\n",
            "      Successfully uninstalled requests-2.23.0\n",
            "  Attempting uninstall: tabulate\n",
            "    Found existing installation: tabulate 0.8.9\n",
            "    Uninstalling tabulate-0.8.9:\n",
            "      Successfully uninstalled tabulate-0.8.9\n",
            "  Attempting uninstall: click\n",
            "    Found existing installation: click 7.1.2\n",
            "    Uninstalling click-7.1.2:\n",
            "      Successfully uninstalled click-7.1.2\n",
            "\u001b[31mERROR: pip's dependency resolver does not currently take into account all the packages that are installed. This behaviour is the source of the following dependency conflicts.\n",
            "google-colab 1.0.0 requires requests~=2.23.0, but you have requests 2.25.1 which is incompatible.\n",
            "datascience 0.10.6 requires folium==0.2.1, but you have folium 0.8.3 which is incompatible.\u001b[0m\n",
            "Successfully installed click-7.0 clickhouse-toolset-0.16.dev0 humanfriendly-8.2 requests-2.25.1 requests-toolbelt-0.9.1 tabulate-0.8.3 tinybird-cli-1.0.0b96 toposort-1.5\n"
          ]
        },
        {
          "output_type": "display_data",
          "data": {
            "application/vnd.colab-display-data+json": {
              "pip_warning": {
                "packages": [
                  "requests"
                ]
              }
            }
          },
          "metadata": {}
        }
      ],
      "source": [
        "!pip install tinybird-cli"
      ]
    },
    {
      "cell_type": "code",
      "execution_count": 21,
      "metadata": {
        "id": "oVQu1s_OtlCD"
      },
      "outputs": [],
      "source": [
        "if token == '':\n",
        "   print(\"Get your token from your Tinybird workspace.\")"
      ]
    },
    {
      "cell_type": "code",
      "execution_count": 22,
      "metadata": {
        "id": "3tVbR1qLgL6P"
      },
      "outputs": [],
      "source": [
        "def write_text_to_file(filename, text):\n",
        "  with open(filename, 'w') as f: f.write(text)"
      ]
    },
    {
      "cell_type": "markdown",
      "metadata": {
        "id": "sJnwWLTxuOlU"
      },
      "source": [
        "### Format CSV"
      ]
    },
    {
      "cell_type": "code",
      "execution_count": 23,
      "metadata": {
        "id": "dh01Ob9k6MPq"
      },
      "outputs": [],
      "source": [
        "df_wiki.to_csv(\"wiki_cli_csv.csv\", index=False)"
      ]
    },
    {
      "cell_type": "markdown",
      "metadata": {
        "id": "uxEERiN0fn35"
      },
      "source": [
        "The schema for the Data Source can be generated from the CSV file or written from code. "
      ]
    },
    {
      "cell_type": "code",
      "execution_count": 24,
      "metadata": {
        "colab": {
          "base_uri": "https://localhost:8080/"
        },
        "id": "RNXw_7l6feCX",
        "outputId": "e74c472a-2987-4516-8afd-6c6ba371fe1b"
      },
      "outputs": [
        {
          "output_type": "stream",
          "name": "stdout",
          "text": [
            "\u001b[92m** Generated wiki_cli_csv.datasource\n",
            "** => Create it on the server running: $ tb push wiki_cli_csv.datasource\n",
            "** => Append data using: $ tb datasource append wiki_cli_csv wiki_cli_csv.csv\n",
            "\u001b[0m\n"
          ]
        }
      ],
      "source": [
        "# generate the file wiki_cli_csv.datasource\n",
        "!tb --token=$token datasource generate wiki_cli_csv.csv"
      ]
    },
    {
      "cell_type": "code",
      "execution_count": 25,
      "metadata": {
        "id": "G_o8NDcNgYbt"
      },
      "outputs": [],
      "source": [
        "# or write the file wiki_cli_csv.datasource with data types, sorting key etc.\n",
        "filename = 'wiki_cli_csv.datasource'\n",
        "text='''\n",
        "SCHEMA >\n",
        "    `meta` LowCardinality(String),\n",
        "    `id` Int64,\n",
        "    `type` String,\n",
        "    `namespace` Int16,\n",
        "    `title` String,\n",
        "    `comment` Nullable(String),\n",
        "    `timestamp` Int64,\n",
        "    `user` String,\n",
        "    `bot` String,\n",
        "    `minor` Nullable(String),\n",
        "    `patrolled` Nullable(String),\n",
        "    `server_url` LowCardinality(String),\n",
        "    `server_name` LowCardinality(String),\n",
        "    `server_script_path` String,\n",
        "    `wiki` LowCardinality(String),\n",
        "    `parsedcomment` Nullable(String)\n",
        "\n",
        "ENGINE \"MergeTree\"\n",
        "ENGINE_SORTING_KEY \"timestamp\"\n",
        "'''\n",
        "\n",
        "write_text_to_file(filename, text)"
      ]
    },
    {
      "cell_type": "code",
      "execution_count": 26,
      "metadata": {
        "colab": {
          "base_uri": "https://localhost:8080/"
        },
        "id": "FciMn7FyrcSC",
        "outputId": "63db54bb-2728-4461-eb6a-706a0d2a17bd"
      },
      "outputs": [
        {
          "output_type": "stream",
          "name": "stdout",
          "text": [
            "\u001b[0m** Processing wiki_cli_csv.datasource\u001b[0m\n",
            "\u001b[0m** Building dependencies\u001b[0m\n",
            "\u001b[0m** Running wiki_cli_csv \u001b[0m\n",
            "\u001b[92m** 'wiki_cli_csv' created\u001b[0m\n",
            "\u001b[0m** Not pushing fixtures\u001b[0m\n",
            "\u001b[0m** 🥚 starting import process\u001b[0m\n",
            "\u001b[92m** 🐥 done\u001b[0m\n",
            "\u001b[92m** Total rows in wiki_cli_csv: 7937\u001b[0m\n",
            "\u001b[92m** Data appended to Data Source 'wiki_cli_csv' successfully!\u001b[0m\n",
            "\u001b[0m** Data pushed to wiki_cli_csv\u001b[0m\n"
          ]
        }
      ],
      "source": [
        "!tb --token=$token push wiki_cli_csv.datasource\n",
        "!tb --token=$token datasource append wiki_cli_csv wiki_cli_csv.csv"
      ]
    },
    {
      "cell_type": "markdown",
      "metadata": {
        "id": "8pYMGMzPuTqD"
      },
      "source": [
        "### Format NDJSON"
      ]
    },
    {
      "cell_type": "code",
      "execution_count": 27,
      "metadata": {
        "id": "foG1Jy-E6W1m"
      },
      "outputs": [],
      "source": [
        "df_wiki.to_json(\"wiki_cli_ndjson.ndjson\", orient=\"records\", lines=True, force_ascii=0)"
      ]
    },
    {
      "cell_type": "markdown",
      "metadata": {
        "id": "C9tUMJHUikEH"
      },
      "source": [
        "The schema for the Data Source can be generated from the NDJSON file or written from code. "
      ]
    },
    {
      "cell_type": "code",
      "execution_count": 28,
      "metadata": {
        "colab": {
          "base_uri": "https://localhost:8080/"
        },
        "id": "-BazQJuPiiwT",
        "outputId": "868bb4b4-c3d1-40e7-eff0-08bf53212890"
      },
      "outputs": [
        {
          "output_type": "stream",
          "name": "stdout",
          "text": [
            "\u001b[92m** Generated wiki_cli_ndjson.datasource\n",
            "** => Create it on the server running: $ tb push wiki_cli_ndjson.datasource\n",
            "** => Append data using: $ tb datasource append wiki_cli_ndjson wiki_cli_ndjson.ndjson\n",
            "\u001b[0m\n"
          ]
        }
      ],
      "source": [
        "# generate the file wiki_cli_ndjson.datasource\n",
        "!tb --token=$token datasource generate wiki_cli_ndjson.ndjson"
      ]
    },
    {
      "cell_type": "code",
      "execution_count": 29,
      "metadata": {
        "id": "PfPqBeCErFO9"
      },
      "outputs": [],
      "source": [
        "# or write the file wiki_cli_ndjson.datasource with data types, sorting key etc.\n",
        "filename = 'wiki_cli_ndjson.datasource'\n",
        "text='''\n",
        "SCHEMA >\n",
        "\n",
        "    bot UInt8 `json:$.bot`,\n",
        "    comment Nullable(String) `json:$.comment`,\n",
        "    id Int64 `json:$.id`,\n",
        "    meta LowCardinality(String) `json:$.meta`,\n",
        "    minor Nullable(UInt8) `json:$.minor`,\n",
        "    namespace Int16 `json:$.namespace`,\n",
        "    parsedcomment Nullable(String) `json:$.parsedcomment`,\n",
        "    patrolled Nullable(UInt8) `json:$.patrolled`,\n",
        "    server_name String `json:$.server_name`,\n",
        "    server_script_path String `json:$.server_script_path`,\n",
        "    server_url String `json:$.server_url`,\n",
        "    timestamp Int64 `json:$.timestamp`,\n",
        "    title String `json:$.title`,\n",
        "    type String `json:$.type`,\n",
        "    user String `json:$.user`,\n",
        "    wiki LowCardinality(String) `json:$.wiki`\n",
        "    \n",
        "ENGINE \"MergeTree\"\n",
        "ENGINE_SORTING_KEY \"timestamp\"\n",
        "'''\n",
        "\n",
        "write_text_to_file(filename, text)"
      ]
    },
    {
      "cell_type": "code",
      "execution_count": 30,
      "metadata": {
        "colab": {
          "base_uri": "https://localhost:8080/"
        },
        "id": "19s5E7kQqgkp",
        "outputId": "5c657a03-acbf-4ab2-8cc5-466268fb256a"
      },
      "outputs": [
        {
          "output_type": "stream",
          "name": "stdout",
          "text": [
            "\u001b[0m** Processing wiki_cli_ndjson.datasource\u001b[0m\n",
            "\u001b[0m** Building dependencies\u001b[0m\n",
            "\u001b[0m** Running wiki_cli_ndjson \u001b[0m\n",
            "\u001b[92m** 'wiki_cli_ndjson' created\u001b[0m\n",
            "\u001b[0m** Not pushing fixtures\u001b[0m\n",
            "\u001b[0m** 🥚 starting import process\u001b[0m\n",
            "\u001b[92m** 🐥 done\u001b[0m\n",
            "\u001b[92m** Appended 0 new rows\u001b[0m\n",
            "\u001b[92m** Total rows in wiki_cli_ndjson: 7937\u001b[0m\n",
            "\u001b[92m** Data appended to Data Source 'wiki_cli_ndjson' successfully!\u001b[0m\n",
            "\u001b[0m** Data pushed to wiki_cli_ndjson\u001b[0m\n"
          ]
        }
      ],
      "source": [
        "!tb --token=$token push wiki_cli_ndjson.datasource\n",
        "!tb --token=$token datasource append wiki_cli_ndjson wiki_cli_ndjson.ndjson"
      ]
    },
    {
      "cell_type": "markdown",
      "metadata": {
        "id": "HBbvTR32_G2P"
      },
      "source": [
        "## Option 4: Stream to Tinybird using High-Frequency Ingestion\n",
        "Here events are streamed directly to the Data Source from the Wikipedia stream using [high-frequency ingestion](https://guides.tinybird.co/guide/high-frequency-ingestion). The data is not first written to a pandas DataFrame.\n",
        "\n",
        "With `mode='create'` the data types are inferred. To avoid rows going into quarantine, a few more columns  need to be `Nullable` than inferred. Directly defining the schema after exploring the automatically created Data Source in the UI solves this issue. "
      ]
    },
    {
      "cell_type": "code",
      "execution_count": 31,
      "metadata": {
        "colab": {
          "base_uri": "https://localhost:8080/"
        },
        "id": "oCrRAdCpAihL",
        "outputId": "cdddf432-63ac-4135-9df5-465da1fac372"
      },
      "outputs": [
        {
          "output_type": "stream",
          "name": "stdout",
          "text": [
            "Requirement already satisfied: sseclient in /usr/local/lib/python3.7/dist-packages (0.0.27)\n",
            "Requirement already satisfied: six in /usr/local/lib/python3.7/dist-packages (from sseclient) (1.15.0)\n",
            "Requirement already satisfied: requests>=2.9 in /usr/local/lib/python3.7/dist-packages (from sseclient) (2.25.1)\n",
            "Requirement already satisfied: idna<3,>=2.5 in /usr/local/lib/python3.7/dist-packages (from requests>=2.9->sseclient) (2.10)\n",
            "Requirement already satisfied: chardet<5,>=3.0.2 in /usr/local/lib/python3.7/dist-packages (from requests>=2.9->sseclient) (3.0.4)\n",
            "Requirement already satisfied: certifi>=2017.4.17 in /usr/local/lib/python3.7/dist-packages (from requests>=2.9->sseclient) (2021.10.8)\n",
            "Requirement already satisfied: urllib3<1.27,>=1.21.1 in /usr/local/lib/python3.7/dist-packages (from requests>=2.9->sseclient) (1.24.3)\n"
          ]
        }
      ],
      "source": [
        "!pip install sseclient\n",
        "!pip install tinybird-cli -q -U"
      ]
    },
    {
      "cell_type": "code",
      "execution_count": 32,
      "metadata": {
        "id": "6CVE8-uA_7lw"
      },
      "outputs": [],
      "source": [
        "import json\n",
        "import requests\n",
        "import time\n",
        "\n",
        "import pandas as pd\n",
        "from sseclient import SSEClient as EventSource\n",
        "from urllib3.util.retry import Retry\n",
        "\n",
        "from requests.adapters import HTTPAdapter"
      ]
    },
    {
      "cell_type": "code",
      "execution_count": 33,
      "metadata": {
        "id": "G7RgTwQe_Mlx"
      },
      "outputs": [],
      "source": [
        "if token == '':\n",
        "   print(\"Get your token from your Tinybird workspace.\")"
      ]
    },
    {
      "cell_type": "code",
      "execution_count": 34,
      "metadata": {
        "id": "Fee5Ptt7JS6Q"
      },
      "outputs": [],
      "source": [
        "def write_text_to_file(filename, text):\n",
        "  with open(filename, 'w') as f: f.write(text)"
      ]
    },
    {
      "cell_type": "code",
      "execution_count": 35,
      "metadata": {
        "colab": {
          "base_uri": "https://localhost:8080/"
        },
        "id": "fdkBT0Q7B2x_",
        "outputId": "954aa4c2-da8d-40ab-9505-547eab0a2646"
      },
      "outputs": [
        {
          "output_type": "stream",
          "name": "stdout",
          "text": [
            "\u001b[0m** Processing wiki_hfi.datasource\u001b[0m\n",
            "\u001b[0m** Building dependencies\u001b[0m\n",
            "\u001b[0m** Running wiki_hfi \u001b[0m\n",
            "\u001b[92m** 'wiki_hfi' created\u001b[0m\n",
            "\u001b[0m** Not pushing fixtures\u001b[0m\n"
          ]
        }
      ],
      "source": [
        "filename = 'wiki_hfi.datasource'\n",
        "text='''\n",
        "SCHEMA >\n",
        "    `DOLLAR_SIGN_schema` String `json:$.['$schema']`,\n",
        "    `bot` UInt8 `json:$.bot`,\n",
        "    `comment` String `json:$.comment`,\n",
        "    `id` Int64 `json:$.id`,\n",
        "    `length_new` Nullable(Int32) `json:$.length.new`,\n",
        "    `length_old` Nullable(Int32) `json:$.length.old`,\n",
        "    `meta_domain` String `json:$.meta.domain`,\n",
        "    `meta_dt` DateTime `json:$.meta.dt`,\n",
        "    `meta_id` String `json:$.meta.id`,\n",
        "    `meta_offset` Int64 `json:$.meta.offset`,\n",
        "    `meta_partition` Int16 `json:$.meta.partition`,\n",
        "    `meta_request_id` String `json:$.meta.request_id`,\n",
        "    `meta_stream` String `json:$.meta.stream`,\n",
        "    `meta_topic` String `json:$.meta.topic`,\n",
        "    `meta_uri` String `json:$.meta.uri`,\n",
        "    `minor` Nullable(UInt8) `json:$.minor`,\n",
        "    `namespace` Int16 `json:$.namespace`,\n",
        "    `parsedcomment` String `json:$.parsedcomment`,\n",
        "    `patrolled` Nullable(UInt8) `json:$.patrolled`,\n",
        "    `revision_new` Nullable(Int64) `json:$.revision.new`,\n",
        "    `revision_old` Nullable(Int64) `json:$.revision.old`,\n",
        "    `server_name` String `json:$.server_name`,\n",
        "    `server_script_path` String `json:$.server_script_path`,\n",
        "    `server_url` String `json:$.server_url`,\n",
        "    `timestamp` Int64 `json:$.timestamp`,\n",
        "    `title` String `json:$.title`,\n",
        "    `type` String `json:$.type`,\n",
        "    `user` String `json:$.user`,\n",
        "    `wiki` String `json:$.wiki`\n",
        "\n",
        "ENGINE \"MergeTree\"\n",
        "ENGINE_SORTING_KEY \"timestamp\"\n",
        "'''\n",
        "\n",
        "write_text_to_file(filename, text)\n",
        "!tb --token=$token push wiki_hfi.datasource"
      ]
    },
    {
      "cell_type": "code",
      "execution_count": 36,
      "metadata": {
        "colab": {
          "base_uri": "https://localhost:8080/"
        },
        "id": "KgUPnj98Aa_s",
        "outputId": "a083f6e5-28cc-4b48-c146-bfd458df76ac"
      },
      "outputs": [
        {
          "output_type": "stream",
          "name": "stdout",
          "text": [
            "Start time: 2022-02-17 11:39:26.494986534\n",
            "Final timestamp: 2022-02-17 11:40:27\n"
          ]
        }
      ],
      "source": [
        "url = 'https://api.tinybird.co/v0/events'\n",
        "mode = 'append'\n",
        "datasource = 'wiki_hfi'\n",
        "n = 1 # minutes of data from stream\n",
        "\n",
        "retry = Retry(total=5, backoff_factor=0.2)\n",
        "adapter = HTTPAdapter(max_retries=retry)\n",
        "_session = requests.Session()\n",
        "_session.mount('http://', adapter)\n",
        "_session.mount('https://', adapter)\n",
        "\n",
        "params = {\n",
        "        'mode': mode,\n",
        "        'name': datasource,\n",
        "        'token': token\n",
        "        }\n",
        "t_end = time.time() + n*60\n",
        "change = {'timestamp': time.time()}\n",
        "print('Start time:', pd.Timestamp(change['timestamp'], unit='s'))\n",
        "\n",
        "for event in EventSource('https://stream.wikimedia.org/v2/stream/recentchange'):\n",
        "      if change['timestamp'] > t_end:\n",
        "        break\n",
        "      elif event.event == 'message':\n",
        "        try:\n",
        "              change = json.loads(event.data)\n",
        "        except ValueError:\n",
        "              pass\n",
        "        else:\n",
        "            if change['type']!='log':\n",
        "              r = _session.post(url, \n",
        "                                params=params, \n",
        "                                data=json.dumps(change))\n",
        "print('Final timestamp:', pd.Timestamp(change['timestamp'], unit='s'))"
      ]
    },
    {
      "cell_type": "code",
      "source": [
        ""
      ],
      "metadata": {
        "id": "ooRWl9YGhlsg"
      },
      "execution_count": null,
      "outputs": []
    }
  ],
  "metadata": {
    "colab": {
      "collapsed_sections": [],
      "name": "ingestion_from_notebook.ipynb",
      "provenance": []
    },
    "kernelspec": {
      "display_name": "Python 3",
      "name": "python3"
    },
    "language_info": {
      "name": "python"
    }
  },
  "nbformat": 4,
  "nbformat_minor": 0
}