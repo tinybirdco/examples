{
 "cells": [
  {
   "cell_type": "markdown",
   "id": "c89ab1c2",
   "metadata": {},
   "source": [
    "# Streaming from Twitter to a Tinybird Data Source\n",
    "\n",
    "Filter tweets using a list of tracking words. Stream the tweets to a Tinybird Data Source."
   ]
  },
  {
   "cell_type": "code",
   "execution_count": 9,
   "id": "a687f6d6",
   "metadata": {},
   "outputs": [
    {
     "name": "stdout",
     "output_type": "stream",
     "text": [
      "Version: 1.0.0\n",
      "Version: 4.5.0\n"
     ]
    }
   ],
   "source": [
    "!pip show jupyter | grep Version\n",
    "!pip show tweepy | grep Version"
   ]
  },
  {
   "cell_type": "code",
   "execution_count": 14,
   "id": "d80629d2-5806-44f3-ad00-77ea82c6c2c9",
   "metadata": {},
   "outputs": [],
   "source": [
    "#!pip install jupyter==1.0.0\n",
    "#!pip install tweepy==4.5.0\n",
    "#!pip install git+https://github.com/tinybirdco/tinybird-python-sdk@master"
   ]
  },
  {
   "cell_type": "code",
   "execution_count": 15,
   "id": "6d086bb8",
   "metadata": {},
   "outputs": [],
   "source": [
    "import logging\n",
    "logging.getLogger().setLevel(logging.INFO)\n",
    "\n",
    "import json\n",
    "import time\n",
    "import tweepy\n",
    "\n",
    "from tb.datasource import Datasource\n",
    "from email.utils import parsedate_to_datetime"
   ]
  },
  {
   "cell_type": "markdown",
   "id": "6eed37b9",
   "metadata": {},
   "source": [
    "Get the access codes you need from your app on [Twitter's Developer Platform](https://developer.twitter.com/en) and the token from the [Tinybird](https://ui.tinybird.co/login) workspace where you want to put the Data Source of tweets."
   ]
  },
  {
   "cell_type": "code",
   "execution_count": 20,
   "id": "076cf3d8",
   "metadata": {},
   "outputs": [],
   "source": [
    "TWITTER_API_KEY = ''\n",
    "TWITTER_API_KEY_SECRET = ''\n",
    "TWITTER_ACCESS_TOKEN = ''\n",
    "TWITTER_ACCESS_TOKEN_SECRET = ''\n",
    "TB_TOKEN = ''"
   ]
  },
  {
   "cell_type": "markdown",
   "id": "3f160e7e",
   "metadata": {},
   "source": [
    "Set up your variables, including the words to look for in tweets. We use [tweepy.Stream](https://docs.tweepy.org/en/stable/stream.html?highlight=.Stream) to filter realtime tweets on the list of keywords."
   ]
  },
  {
   "cell_type": "code",
   "execution_count": 17,
   "id": "498316b5",
   "metadata": {},
   "outputs": [],
   "source": [
    "TB_HOST = 'https://api.tinybird.co'\n",
    "datasource = 'tweets'\n",
    "search_label = 'ESP'\n",
    "track = ['Madrid', 'madrid', 'Spain', 'spain', 'España', 'españa', 'Espana', 'espana']\n",
    "time_limit = 30    # seconds to run stream"
   ]
  },
  {
   "cell_type": "markdown",
   "id": "d1deb224",
   "metadata": {},
   "source": [
    "Send chunks of data to Tinybird"
   ]
  },
  {
   "cell_type": "code",
   "execution_count": 18,
   "id": "7513165a",
   "metadata": {},
   "outputs": [],
   "source": [
    "class TwitterToTinybird(tweepy.Stream):\n",
    "    def __init__(self, auth, datasource, token, api_url, search_label, **kwargs):\n",
    "        super().__init__(*auth, **kwargs)\n",
    "        self.datasource = Datasource(datasource, token, api_url=api_url)\n",
    "        self.search_label = search_label\n",
    "        self.start_time = time.monotonic()\n",
    "        self.limit = kwargs.get('time_limit', time_limit)\n",
    "        print('seconds to run:', self.limit)\n",
    "\n",
    "    def on_data(self, raw_tweet):\n",
    "        if (time.monotonic() - self.start_time) > self.limit:\n",
    "            print('reached time limit')\n",
    "            self.disconnect()\n",
    "            return False\n",
    "        tweet = json.loads(raw_tweet)\n",
    "        if 'created_at' not in tweet or 'id' not in tweet or 'text' not in tweet:\n",
    "          return\n",
    "        date = str(tweet['created_at'])\n",
    "\n",
    "        text = ''\n",
    "        try:\n",
    "          if tweet['truncated']:\n",
    "              text = tweet['extended_tweet']['full_text']\n",
    "          else:\n",
    "              text = tweet['text']\n",
    "        except Exception as e:\n",
    "          print(e)\n",
    "\n",
    "        try:\n",
    "          if tweet.get('retweeted_status'):\n",
    "              if tweet.get('retweeted_status')['truncated']:\n",
    "                  text += tweet['retweeted_status'].get('extended_tweet', {})['full_text']\n",
    "              else:\n",
    "                  text += tweet['retweeted_status'].get('text')\n",
    "        except Exception as e:\n",
    "          print(e)\n",
    "\n",
    "        try:\n",
    "          if tweet.get('quoted_status'):\n",
    "              q = tweet.get('quoted_status')\n",
    "              if q['truncated']:\n",
    "                  text += q.get('extended_tweet', {})['full_text']\n",
    "              else:\n",
    "                  text += q.get('text')\n",
    "        except Exception as e:\n",
    "          print(e)\n",
    "\n",
    "        tw = {\n",
    "          \"search_label\": self.search_label,\n",
    "          \"tweet\": text,\n",
    "          \"date\": parsedate_to_datetime(date).strftime(\"%Y-%m-%d %H:%M:%S\")\n",
    "        }\n",
    "        self.datasource << tw"
   ]
  },
  {
   "cell_type": "markdown",
   "id": "3bda28e6",
   "metadata": {},
   "source": [
    "Listen for your tweets"
   ]
  },
  {
   "cell_type": "code",
   "execution_count": 19,
   "id": "1940deac-af5b-4d75-b745-4bb996b6f943",
   "metadata": {},
   "outputs": [
    {
     "name": "stdout",
     "output_type": "stream",
     "text": [
      "connect\n",
      "seconds to run: 30\n"
     ]
    },
    {
     "name": "stderr",
     "output_type": "stream",
     "text": [
      "INFO:tweepy.streaming:Stream connected\n",
      "INFO:root:Flushing 16 records and 5.2 K bytes to tweets\n",
      "INFO:root:Waiting while flushing...\n",
      "INFO:root:Flushing 11 records and 4.8 K bytes to tweets\n",
      "INFO:root:Flushing 10 records and 4.0 K bytes to tweets\n",
      "INFO:root:Waiting while flushing...\n",
      "INFO:root:Flushing 14 records and 5.4 K bytes to tweets\n",
      "INFO:root:Flushing 16 records and 5.3 K bytes to tweets\n",
      "INFO:root:Waiting while flushing...\n",
      "INFO:root:Flushing 9 records and 2.8 K bytes to tweets\n",
      "INFO:root:Waiting while flushing...\n",
      "INFO:root:Flushing 16 records and 5.2 K bytes to tweets\n",
      "INFO:root:Flushing 11 records and 4.1 K bytes to tweets\n",
      "INFO:root:Flushing 4 records and 1.4 K bytes to tweets\n",
      "INFO:root:Flushing 9 records and 3.4 K bytes to tweets\n",
      "INFO:root:Waiting while flushing...\n",
      "INFO:root:Flushing 14 records and 4.9 K bytes to tweets\n",
      "INFO:root:Flushing 8 records and 2.5 K bytes to tweets\n",
      "INFO:root:Waiting while flushing...\n",
      "INFO:root:Flushing 13 records and 4.9 K bytes to tweets\n",
      "INFO:root:Waiting while flushing...\n",
      "INFO:root:Flushing 17 records and 6.4 K bytes to tweets\n",
      "INFO:root:Flushing 16 records and 5.5 K bytes to tweets\n",
      "INFO:root:Waiting while flushing...\n",
      "INFO:root:Flushing 16 records and 5.7 K bytes to tweets\n",
      "INFO:root:Flushing 10 records and 3.4 K bytes to tweets\n",
      "INFO:root:Flushing 10 records and 4.4 K bytes to tweets\n",
      "INFO:root:Waiting while flushing...\n",
      "INFO:root:Flushing 15 records and 5.2 K bytes to tweets\n",
      "INFO:root:Waiting while flushing...\n",
      "INFO:root:Flushing 8 records and 2.2 K bytes to tweets\n",
      "INFO:root:Waiting while flushing...\n",
      "INFO:root:Flushing 12 records and 4.1 K bytes to tweets\n",
      "INFO:root:Waiting while flushing...\n",
      "INFO:root:Flushing 10 records and 3.2 K bytes to tweets\n",
      "INFO:root:Flushing 8 records and 2.9 K bytes to tweets\n",
      "INFO:root:Flushing 8 records and 2.9 K bytes to tweets\n",
      "INFO:root:Waiting while flushing...\n",
      "INFO:root:Flushing 14 records and 5.0 K bytes to tweets\n",
      "INFO:root:Flushing 5 records and 1.6 K bytes to tweets\n",
      "ERROR:tweepy.streaming:Stream connection closed by Twitter\n",
      "INFO:tweepy.streaming:Stream disconnected\n"
     ]
    },
    {
     "name": "stdout",
     "output_type": "stream",
     "text": [
      "reached time limit\n"
     ]
    }
   ],
   "source": [
    "def connect():\n",
    "  try:\n",
    "    tt = TwitterToTinybird(\n",
    "        [\n",
    "            TWITTER_API_KEY,\n",
    "            TWITTER_API_KEY_SECRET,\n",
    "            TWITTER_ACCESS_TOKEN,\n",
    "            TWITTER_ACCESS_TOKEN_SECRET\n",
    "        ],\n",
    "        datasource,\n",
    "        TB_TOKEN,\n",
    "        TB_HOST,\n",
    "        search_label,\n",
    "        daemon=True,\n",
    "        chunk_size=1024*10\n",
    "    )\n",
    "    tt.filter(track=track, threaded=True)\n",
    "    return tt\n",
    "  except Exception as e:\n",
    "      print(e)\n",
    "\n",
    "print('connect')\n",
    "stream = connect()"
   ]
  }
 ],
 "metadata": {
  "kernelspec": {
   "display_name": "Python 3 (ipykernel)",
   "language": "python",
   "name": "python3"
  },
  "language_info": {
   "codemirror_mode": {
    "name": "ipython",
    "version": 3
   },
   "file_extension": ".py",
   "mimetype": "text/x-python",
   "name": "python",
   "nbconvert_exporter": "python",
   "pygments_lexer": "ipython3",
   "version": "3.9.7"
  }
 },
 "nbformat": 4,
 "nbformat_minor": 5
}
